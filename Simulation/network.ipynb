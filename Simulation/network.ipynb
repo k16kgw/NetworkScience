{
 "cells": [
  {
   "cell_type": "markdown",
   "metadata": {},
   "source": [
    "# NetworkX\n",
    "---"
   ]
  },
  {
   "cell_type": "markdown",
   "metadata": {},
   "source": [
    "## 基本\n",
    "---"
   ]
  },
  {
   "cell_type": "markdown",
   "metadata": {},
   "source": [
    "- NetworkX Reference (https://networkx.github.io/documentation/latest/_downloads/networkx_reference.pdf)"
   ]
  },
  {
   "cell_type": "markdown",
   "metadata": {},
   "source": [
    "### インストール"
   ]
  },
  {
   "cell_type": "code",
   "execution_count": null,
   "metadata": {},
   "outputs": [],
   "source": [
    "$ pip install networkx"
   ]
  },
  {
   "cell_type": "code",
   "execution_count": 1,
   "metadata": {},
   "outputs": [
    {
     "data": {
      "text/plain": [
       "'2.2'"
      ]
     },
     "execution_count": 1,
     "metadata": {},
     "output_type": "execute_result"
    }
   ],
   "source": [
    "import networkx\n",
    "networkx.__version__"
   ]
  },
  {
   "cell_type": "markdown",
   "metadata": {},
   "source": [
    "### インポート"
   ]
  },
  {
   "cell_type": "code",
   "execution_count": 1,
   "metadata": {
    "collapsed": true
   },
   "outputs": [],
   "source": [
    "import networkx as nx\n",
    "import numpy as np"
   ]
  },
  {
   "cell_type": "markdown",
   "metadata": {},
   "source": [
    "### インスタンスの作成\n",
    "---"
   ]
  },
  {
   "cell_type": "markdown",
   "metadata": {},
   "source": [
    "Networkxには以下の４つのタイプのグラフがある\n",
    "- Graph\n",
    "    - 無向グラフ\n",
    "    - 多重エッジは扱えない（但し，重みを付けることができる）\n",
    "    - 自己ループは可\n",
    "\n",
    "- DiGraph\n",
    "    - 有向グラフ\n",
    "    - 多重エッジは扱えない（但し，重みを付けることができる）\n",
    "    \n",
    "- MultiGrapg\n",
    "    - 無向グラフ\n",
    "    - 多重エッジ可\n",
    "    \n",
    "- MultiDiGraph\n",
    "    - 有向グラフ\n",
    "    - 多重エッジ可"
   ]
  },
  {
   "cell_type": "code",
   "execution_count": 3,
   "metadata": {
    "collapsed": true
   },
   "outputs": [],
   "source": [
    "G = nx.Graph()\n",
    "DG = nx.DiGraph()\n",
    "MG = nx.MultiGraph()\n",
    "MDG = nx.MultiDiGraph()"
   ]
  },
  {
   "cell_type": "markdown",
   "metadata": {},
   "source": [
    "Networkxでは，グラフの内部構造を隣接リストによって表す．これはPythonの辞書を用いて実現している．"
   ]
  },
  {
   "cell_type": "markdown",
   "metadata": {
    "toc-hr-collapsed": false
   },
   "source": [
    "### ノードの追加\n",
    "---"
   ]
  },
  {
   "cell_type": "code",
   "execution_count": 4,
   "metadata": {
    "tags": []
   },
   "outputs": [
    {
     "output_type": "stream",
     "name": "stdout",
     "text": "[-1, 0, 1, 2, 3]\n"
    }
   ],
   "source": [
    "DG.add_node(-1)\n",
    "DG.add_nodes_from(np.arange(0,4)) #1〜5までのノードを追加\n",
    "print(DG.node)"
   ]
  },
  {
   "cell_type": "code",
   "execution_count": 5,
   "metadata": {
    "collapsed": true,
    "tags": []
   },
   "outputs": [
    {
     "output_type": "stream",
     "name": "stdout",
     "text": "[0, 1, 2, 3, 4, 5, 6, 7, 8, 9]\n"
    }
   ],
   "source": [
    "# Hのノードを追加\n",
    "H = nx.path_graph(10)  # １直線上に連なったグラフを作成\n",
    "DG = nx.DiGraph()\n",
    "DG.add_nodes_from(H)\n",
    "print(DG.node)"
   ]
  },
  {
   "cell_type": "code",
   "execution_count": 6,
   "metadata": {
    "collapsed": true,
    "tags": []
   },
   "outputs": [
    {
     "output_type": "stream",
     "name": "stdout",
     "text": "[<networkx.classes.graph.Graph object at 0x7fed16f3dad0>]\n"
    }
   ],
   "source": [
    "# Hを一つのノードとして追加\n",
    "DG = nx.DiGraph()\n",
    "DG.add_node(H)\n",
    "print(DG.node)"
   ]
  },
  {
   "cell_type": "markdown",
   "metadata": {},
   "source": [
    "### エッジの追加\n",
    "---"
   ]
  },
  {
   "cell_type": "code",
   "execution_count": 7,
   "metadata": {},
   "outputs": [
    {
     "output_type": "execute_result",
     "data": {
      "text/plain": "EdgeView([(0, 1), (1, 2)])"
     },
     "metadata": {},
     "execution_count": 7
    }
   ],
   "source": [
    "# 1 -> 2にエッジを追加\n",
    "G = nx.path_graph(3)\n",
    "G.add_edge(1, 2)\n",
    "G.edges"
   ]
  },
  {
   "cell_type": "code",
   "execution_count": 8,
   "metadata": {},
   "outputs": [
    {
     "output_type": "execute_result",
     "data": {
      "text/plain": "False"
     },
     "metadata": {},
     "execution_count": 8
    }
   ],
   "source": [
    "-1 in G.nodes()"
   ]
  },
  {
   "cell_type": "code",
   "execution_count": 9,
   "metadata": {
    "tags": []
   },
   "outputs": [
    {
     "output_type": "stream",
     "name": "stdout",
     "text": "[(0, 1), (1, 2), (2, 3)]\n"
    }
   ],
   "source": [
    "# 2 -> 3に重み3のエッジを追加\n",
    "G.add_edge(2, 3, weight=3)\n",
    "print(G.edges)"
   ]
  },
  {
   "cell_type": "markdown",
   "metadata": {},
   "source": [
    "- 一度に複数のエッジを追加．ノードが存在しない場合は新たに追加される．"
   ]
  },
  {
   "cell_type": "code",
   "execution_count": 10,
   "metadata": {
    "tags": []
   },
   "outputs": [
    {
     "output_type": "stream",
     "name": "stdout",
     "text": "[(0, 1), (1, 2), ('a', 'b'), ('b', 'c')]\n"
    }
   ],
   "source": [
    "DG = nx.path_graph(3)\n",
    "elist = [('a', 'b', 5), ('b', 'c', 3)]\n",
    "DG.add_weighted_edges_from(elist)\n",
    "print(DG.edges)"
   ]
  },
  {
   "cell_type": "markdown",
   "metadata": {},
   "source": [
    "- ファイルから"
   ]
  },
  {
   "cell_type": "code",
   "execution_count": 11,
   "metadata": {
    "collapsed": true
   },
   "outputs": [
    {
     "output_type": "error",
     "ename": "OSError",
     "evalue": "edges.dat not found.",
     "traceback": [
      "\u001b[0;31m---------------------------------------------------------------------------\u001b[0m",
      "\u001b[0;31mOSError\u001b[0m                                   Traceback (most recent call last)",
      "\u001b[0;32m<ipython-input-11-8cddf316a96d>\u001b[0m in \u001b[0;36m<module>\u001b[0;34m\u001b[0m\n\u001b[0;32m----> 1\u001b[0;31m \u001b[0mx\u001b[0m \u001b[0;34m=\u001b[0m \u001b[0mnp\u001b[0m\u001b[0;34m.\u001b[0m\u001b[0mloadtxt\u001b[0m\u001b[0;34m(\u001b[0m\u001b[0;34m'edges.dat'\u001b[0m\u001b[0;34m)\u001b[0m\u001b[0;34m\u001b[0m\u001b[0;34m\u001b[0m\u001b[0m\n\u001b[0m\u001b[1;32m      2\u001b[0m \u001b[0mDG\u001b[0m\u001b[0;34m.\u001b[0m\u001b[0madd_weighted_edges_from\u001b[0m\u001b[0;34m(\u001b[0m\u001b[0mx\u001b[0m\u001b[0;34m)\u001b[0m\u001b[0;34m\u001b[0m\u001b[0;34m\u001b[0m\u001b[0m\n",
      "\u001b[0;32m~/.pyenv/versions/anaconda3-2019.10/lib/python3.7/site-packages/numpy/lib/npyio.py\u001b[0m in \u001b[0;36mloadtxt\u001b[0;34m(fname, dtype, comments, delimiter, converters, skiprows, usecols, unpack, ndmin, encoding, max_rows)\u001b[0m\n\u001b[1;32m    966\u001b[0m             \u001b[0mfname\u001b[0m \u001b[0;34m=\u001b[0m \u001b[0mos_fspath\u001b[0m\u001b[0;34m(\u001b[0m\u001b[0mfname\u001b[0m\u001b[0;34m)\u001b[0m\u001b[0;34m\u001b[0m\u001b[0;34m\u001b[0m\u001b[0m\n\u001b[1;32m    967\u001b[0m         \u001b[0;32mif\u001b[0m \u001b[0m_is_string_like\u001b[0m\u001b[0;34m(\u001b[0m\u001b[0mfname\u001b[0m\u001b[0;34m)\u001b[0m\u001b[0;34m:\u001b[0m\u001b[0;34m\u001b[0m\u001b[0;34m\u001b[0m\u001b[0m\n\u001b[0;32m--> 968\u001b[0;31m             \u001b[0mfh\u001b[0m \u001b[0;34m=\u001b[0m \u001b[0mnp\u001b[0m\u001b[0;34m.\u001b[0m\u001b[0mlib\u001b[0m\u001b[0;34m.\u001b[0m\u001b[0m_datasource\u001b[0m\u001b[0;34m.\u001b[0m\u001b[0mopen\u001b[0m\u001b[0;34m(\u001b[0m\u001b[0mfname\u001b[0m\u001b[0;34m,\u001b[0m \u001b[0;34m'rt'\u001b[0m\u001b[0;34m,\u001b[0m \u001b[0mencoding\u001b[0m\u001b[0;34m=\u001b[0m\u001b[0mencoding\u001b[0m\u001b[0;34m)\u001b[0m\u001b[0;34m\u001b[0m\u001b[0;34m\u001b[0m\u001b[0m\n\u001b[0m\u001b[1;32m    969\u001b[0m             \u001b[0mfencoding\u001b[0m \u001b[0;34m=\u001b[0m \u001b[0mgetattr\u001b[0m\u001b[0;34m(\u001b[0m\u001b[0mfh\u001b[0m\u001b[0;34m,\u001b[0m \u001b[0;34m'encoding'\u001b[0m\u001b[0;34m,\u001b[0m \u001b[0;34m'latin1'\u001b[0m\u001b[0;34m)\u001b[0m\u001b[0;34m\u001b[0m\u001b[0;34m\u001b[0m\u001b[0m\n\u001b[1;32m    970\u001b[0m             \u001b[0mfh\u001b[0m \u001b[0;34m=\u001b[0m \u001b[0miter\u001b[0m\u001b[0;34m(\u001b[0m\u001b[0mfh\u001b[0m\u001b[0;34m)\u001b[0m\u001b[0;34m\u001b[0m\u001b[0;34m\u001b[0m\u001b[0m\n",
      "\u001b[0;32m~/.pyenv/versions/anaconda3-2019.10/lib/python3.7/site-packages/numpy/lib/_datasource.py\u001b[0m in \u001b[0;36mopen\u001b[0;34m(path, mode, destpath, encoding, newline)\u001b[0m\n\u001b[1;32m    267\u001b[0m \u001b[0;34m\u001b[0m\u001b[0m\n\u001b[1;32m    268\u001b[0m     \u001b[0mds\u001b[0m \u001b[0;34m=\u001b[0m \u001b[0mDataSource\u001b[0m\u001b[0;34m(\u001b[0m\u001b[0mdestpath\u001b[0m\u001b[0;34m)\u001b[0m\u001b[0;34m\u001b[0m\u001b[0;34m\u001b[0m\u001b[0m\n\u001b[0;32m--> 269\u001b[0;31m     \u001b[0;32mreturn\u001b[0m \u001b[0mds\u001b[0m\u001b[0;34m.\u001b[0m\u001b[0mopen\u001b[0m\u001b[0;34m(\u001b[0m\u001b[0mpath\u001b[0m\u001b[0;34m,\u001b[0m \u001b[0mmode\u001b[0m\u001b[0;34m,\u001b[0m \u001b[0mencoding\u001b[0m\u001b[0;34m=\u001b[0m\u001b[0mencoding\u001b[0m\u001b[0;34m,\u001b[0m \u001b[0mnewline\u001b[0m\u001b[0;34m=\u001b[0m\u001b[0mnewline\u001b[0m\u001b[0;34m)\u001b[0m\u001b[0;34m\u001b[0m\u001b[0;34m\u001b[0m\u001b[0m\n\u001b[0m\u001b[1;32m    270\u001b[0m \u001b[0;34m\u001b[0m\u001b[0m\n\u001b[1;32m    271\u001b[0m \u001b[0;34m\u001b[0m\u001b[0m\n",
      "\u001b[0;32m~/.pyenv/versions/anaconda3-2019.10/lib/python3.7/site-packages/numpy/lib/_datasource.py\u001b[0m in \u001b[0;36mopen\u001b[0;34m(self, path, mode, encoding, newline)\u001b[0m\n\u001b[1;32m    621\u001b[0m                                       encoding=encoding, newline=newline)\n\u001b[1;32m    622\u001b[0m         \u001b[0;32melse\u001b[0m\u001b[0;34m:\u001b[0m\u001b[0;34m\u001b[0m\u001b[0;34m\u001b[0m\u001b[0m\n\u001b[0;32m--> 623\u001b[0;31m             \u001b[0;32mraise\u001b[0m \u001b[0mIOError\u001b[0m\u001b[0;34m(\u001b[0m\u001b[0;34m\"%s not found.\"\u001b[0m \u001b[0;34m%\u001b[0m \u001b[0mpath\u001b[0m\u001b[0;34m)\u001b[0m\u001b[0;34m\u001b[0m\u001b[0;34m\u001b[0m\u001b[0m\n\u001b[0m\u001b[1;32m    624\u001b[0m \u001b[0;34m\u001b[0m\u001b[0m\n\u001b[1;32m    625\u001b[0m \u001b[0;34m\u001b[0m\u001b[0m\n",
      "\u001b[0;31mOSError\u001b[0m: edges.dat not found."
     ]
    }
   ],
   "source": [
    "x = np.loadtxt('edges.dat')\n",
    "DG.add_weighted_edges_from(x)"
   ]
  },
  {
   "cell_type": "markdown",
   "metadata": {},
   "source": [
    "キーワードを指定することでエッジに属性を与えることができる．  \n",
    "ただし，'weight'というキーワードは使えない．"
   ]
  },
  {
   "cell_type": "code",
   "execution_count": 13,
   "metadata": {
    "collapsed": true
   },
   "outputs": [
    {
     "data": {
      "text/plain": [
       "1.5"
      ]
     },
     "execution_count": 13,
     "metadata": {},
     "output_type": "execute_result"
    }
   ],
   "source": [
    "DG.add_edge('a','b',weight=2,length=1.5)\n",
    "DG['a']['b']['length']"
   ]
  },
  {
   "cell_type": "markdown",
   "metadata": {},
   "source": [
    "- 多重有向グラフ（MultiDiGraph）の場合"
   ]
  },
  {
   "cell_type": "code",
   "execution_count": 14,
   "metadata": {
    "collapsed": true
   },
   "outputs": [
    {
     "data": {
      "text/plain": [
       "OutMultiEdgeView([(1, 2, 0), (1, 2, 1), (1, 2, 2)])"
      ]
     },
     "execution_count": 14,
     "metadata": {},
     "output_type": "execute_result"
    }
   ],
   "source": [
    "DMG = nx.MultiDiGraph()\n",
    "DMG.add_weighted_edges_from([(1,2,1), (1,2,3), (1,2,4)])\n",
    "DMG.edges"
   ]
  },
  {
   "cell_type": "markdown",
   "metadata": {},
   "source": [
    "- 隣接行列から変換"
   ]
  },
  {
   "cell_type": "code",
   "execution_count": 15,
   "metadata": {
    "collapsed": true
   },
   "outputs": [],
   "source": [
    "A = ar([[0, 1, 1, 0, 0], [1, 0, 1, 1, 0], [1, 1, 0, 1, 1], [0, 1, 1, 0, 0], [0, 0, 1, 0, 0]])\n",
    "G = nx.from_numpy_matrix(A)"
   ]
  },
  {
   "cell_type": "markdown",
   "metadata": {},
   "source": [
    "※ 注意\n",
    "networkx組み込みの関数では，\n",
    "    \n",
    "    1 2\n",
    "    1 2\n",
    "    \n",
    "というファイルを読み込んだ場合，(1,2)というエッジの重みが2にならない.  \n",
    "networkx組み込みの関数を使う場合，\n",
    "\n",
    "    1 2 2\n",
    "    \n",
    "のように，3列目に重みを指定する必要がある．  \n",
    "しかし，わざわざ重みを指定したファイルを用意するのは面倒なので，次の関数を用意した。\n",
    "\n",
    "    G.add_weighted_edges_ud()\n",
    "    DG.add_weighted_edges_d()\n",
    "    \n",
    "これらは/usr/local/lib/python2.7/site-packages/networkx/classes内のdigraph.py,graph.pyの中に加えると使えるようになる．\n",
    "\n",
    "※ \"/Users/Narizuka/.pyenv/versions/2.7.13/lib/python2.7/site-packages/networkx/classes\""
   ]
  },
  {
   "cell_type": "code",
   "execution_count": 16,
   "metadata": {
    "collapsed": true
   },
   "outputs": [],
   "source": [
    "def add_weighted_edges_ud(self, ebunch, attr_dict=None, **attr):\n",
    "    \"\"\"\n",
    "    Add all the edges in ebunch.\n",
    "    If there is an edge, increment 'weight'.\n",
    "    \"\"\"\n",
    "    # process ebunch\n",
    "    for e in ebunch:\n",
    "        ne =len(e)\n",
    "        u,v = e\n",
    "        if u not in self.node:\n",
    "            self.adj[u] = {} \n",
    "            self.node[u] = {}\n",
    "        if v not in self.node:\n",
    "            self.adj[v] = {}\n",
    "            self.node[v] = {}\n",
    "\n",
    "        datadict=self.adj[u].get(v,{})\n",
    "        if (datadict=={}):\n",
    "            self.adj[u][v] = {'weight': 1}\n",
    "            self.adj[v][u] = {'weight': 1}\n",
    "        else:\n",
    "            self.adj[u][v]['weight'] += 1\n",
    "            self.adj[v][u]['weight'] += 1"
   ]
  },
  {
   "cell_type": "code",
   "execution_count": 17,
   "metadata": {
    "collapsed": true
   },
   "outputs": [],
   "source": [
    "def add_weighted_edges_d(self, ebunch, attr_dict=None, **attr):\n",
    "    \"\"\"\n",
    "    Add all the edges in ebunch.\n",
    "    If there is an edge, increment 'weight'.\n",
    "\n",
    "    \"\"\"\n",
    "    # process ebunch\n",
    "    for e in ebunch:\n",
    "        ne = len(e)\n",
    "        u, v = e\n",
    "        if u not in self.succ:\n",
    "            self.succ[u] = {}\n",
    "            self.pred[u] = {}\n",
    "            self.node[u] = {}\n",
    "        if v not in self.succ:\n",
    "            self.succ[v] = {}\n",
    "            self.pred[v] = {}\n",
    "            self.node[v] = {}\n",
    "\n",
    "        datadict = self.adj[u].get(v, {})\n",
    "        if (datadict=={}):\n",
    "            self.succ[u][v] = {'weight': 1}\n",
    "            self.pred[v][u] = {'weight': 1}\n",
    "        else:\n",
    "            self.succ[u][v]['weight'] += 1\n",
    "            self.pred[v][u]['weight'] += 1"
   ]
  },
  {
   "cell_type": "markdown",
   "metadata": {},
   "source": [
    "### ノード・エッジの削除\n",
    "---"
   ]
  },
  {
   "cell_type": "code",
   "execution_count": 18,
   "metadata": {
    "collapsed": true
   },
   "outputs": [
    {
     "name": "stdout",
     "output_type": "stream",
     "text": [
      "[0, 2, 6, 7, 8, 9]\n"
     ]
    }
   ],
   "source": [
    "# ノードを削除\n",
    "G = nx.path_graph(10)\n",
    "G.remove_node(1)\n",
    "G.remove_nodes_from([3,4,5])\n",
    "print(G.node)"
   ]
  },
  {
   "cell_type": "code",
   "execution_count": 20,
   "metadata": {},
   "outputs": [
    {
     "name": "stdout",
     "output_type": "stream",
     "text": [
      "[(0, 1), (2, 3), (4, 5), (6, 7), (7, 8), (8, 9)]\n"
     ]
    }
   ],
   "source": [
    "# エッジを削除\n",
    "G = nx.path_graph(10)\n",
    "G.remove_edge(3,4)\n",
    "G.remove_edges_from([(1,2), (5,6)])\n",
    "print(G.edges)"
   ]
  },
  {
   "cell_type": "code",
   "execution_count": 21,
   "metadata": {
    "collapsed": true
   },
   "outputs": [
    {
     "data": {
      "text/plain": [
       "NodeView(())"
      ]
     },
     "execution_count": 21,
     "metadata": {},
     "output_type": "execute_result"
    }
   ],
   "source": [
    "# グラフを削除\n",
    "G = nx.path_graph(10)\n",
    "G.clear()\n",
    "G.node"
   ]
  },
  {
   "cell_type": "markdown",
   "metadata": {},
   "source": [
    "### ネットワーク情報の取得\n",
    "---"
   ]
  },
  {
   "cell_type": "code",
   "execution_count": 22,
   "metadata": {},
   "outputs": [
    {
     "data": {
      "text/plain": [
       "array([2, 5, 1, 4, 4, 2, 5, 3, 5, 2])"
      ]
     },
     "execution_count": 22,
     "metadata": {},
     "output_type": "execute_result"
    }
   ],
   "source": [
    "np.random.randint(1, 6, 10)"
   ]
  },
  {
   "cell_type": "code",
   "execution_count": null,
   "metadata": {},
   "outputs": [],
   "source": [
    "fig, ax = plt.subplots(figsize=(2.5, 2.5))\n",
    "DG = nx.DiGraph()\n",
    "DG.add_nodes_from(np.arange(1, 6)) #1〜5までのノードを追加\n",
    "# elist = [(0, 1), (1, 2)]\n",
    "elist = np.c_[np.random.randint(1, 6, 20), np.random.randint(1, 6, 20)]\n",
    "DG.add_edges_from(elist)\n",
    "nx.draw_networkx(DG, pos=nx.circular_layout(DG))"
   ]
  },
  {
   "cell_type": "code",
   "execution_count": null,
   "metadata": {},
   "outputs": [],
   "source": [
    "fig, ax = plt.subplots(figsize=(2.5, 2.5))\n",
    "G = nx.Graph()\n",
    "G.add_nodes_from(np.arange(1, 3)) #1〜3までのノードを追加\n",
    "# elist = [(0, 1), (1, 2)]\n",
    "elist = [(1, 2), (2, 3)]\n",
    "G.add_edges_from(elist)\n",
    "nx.draw_networkx(G, pos=nx.circular_layout(G))\n",
    "\n",
    "A = ar(nx.to_numpy_matrix(G))\n",
    "k = np.array(G.degree())[:, 1]\n",
    "A / np.tile(k, (3, 1)).T"
   ]
  },
  {
   "cell_type": "markdown",
   "metadata": {},
   "source": [
    "#### 隣接行列の取得"
   ]
  },
  {
   "cell_type": "code",
   "execution_count": 25,
   "metadata": {},
   "outputs": [
    {
     "data": {
      "text/plain": [
       "array([[1., 1., 1., 0., 0.],\n",
       "       [1., 1., 0., 0., 1.],\n",
       "       [0., 0., 1., 1., 1.],\n",
       "       [0., 1., 0., 1., 0.],\n",
       "       [1., 1., 0., 1., 1.]])"
      ]
     },
     "execution_count": 25,
     "metadata": {},
     "output_type": "execute_result"
    }
   ],
   "source": [
    "ar(nx.to_numpy_matrix(DG))"
   ]
  },
  {
   "cell_type": "markdown",
   "metadata": {},
   "source": [
    "#### ノード数"
   ]
  },
  {
   "cell_type": "code",
   "execution_count": 27,
   "metadata": {
    "collapsed": true
   },
   "outputs": [
    {
     "data": {
      "text/plain": [
       "10"
      ]
     },
     "execution_count": 27,
     "metadata": {},
     "output_type": "execute_result"
    }
   ],
   "source": [
    "G = nx.path_graph(10)\n",
    "G.number_of_nodes()"
   ]
  },
  {
   "cell_type": "markdown",
   "metadata": {},
   "source": [
    "#### エッジ数"
   ]
  },
  {
   "cell_type": "code",
   "execution_count": 28,
   "metadata": {
    "collapsed": true
   },
   "outputs": [
    {
     "data": {
      "text/plain": [
       "9"
      ]
     },
     "execution_count": 28,
     "metadata": {},
     "output_type": "execute_result"
    }
   ],
   "source": [
    "G = nx.path_graph(10)\n",
    "G.number_of_edges()"
   ]
  },
  {
   "cell_type": "markdown",
   "metadata": {},
   "source": [
    "#### 次数\n",
    "自己ループも無視されないので注意"
   ]
  },
  {
   "cell_type": "code",
   "execution_count": 29,
   "metadata": {},
   "outputs": [
    {
     "data": {
      "image/png": "[encoded data removed]",
      "text/plain": [
       "<Figure size 250x250 with 1 Axes>"
      ]
     },
     "metadata": {},
     "output_type": "display_data"
    }
   ],
   "source": [
    "fig = plt.figure(figsize=(2.5, 2.5))\n",
    "DG = nx.DiGraph()\n",
    "elist = [[0,1,3], [0,2,2], [1,2,2], [2, 0, 2], [0, 0, 1], [1, 1, 2]]\n",
    "DG.add_weighted_edges_from(elist)\n",
    "A = ar(nx.to_numpy_matrix(DG))\n",
    "nx.draw_networkx(DG, pos=nx.circular_layout(DG))"
   ]
  },
  {
   "cell_type": "code",
   "execution_count": 30,
   "metadata": {},
   "outputs": [
    {
     "data": {
      "text/plain": [
       "{0: 5, 1: 4, 2: 3}"
      ]
     },
     "execution_count": 30,
     "metadata": {},
     "output_type": "execute_result"
    }
   ],
   "source": [
    "dict(DG.degree(weight=None))"
   ]
  },
  {
   "cell_type": "code",
   "execution_count": 31,
   "metadata": {},
   "outputs": [
    {
     "data": {
      "text/plain": [
       "{0: 9, 1: 9, 2: 6}"
      ]
     },
     "execution_count": 31,
     "metadata": {},
     "output_type": "execute_result"
    }
   ],
   "source": [
    "dict(DG.degree(weight='weight'))  # weightの和"
   ]
  },
  {
   "cell_type": "code",
   "execution_count": 32,
   "metadata": {},
   "outputs": [
    {
     "data": {
      "text/plain": [
       "9"
      ]
     },
     "execution_count": 32,
     "metadata": {},
     "output_type": "execute_result"
    }
   ],
   "source": [
    "# 特定のノード\n",
    "DG.degree(0, 'weight')"
   ]
  },
  {
   "cell_type": "markdown",
   "metadata": {},
   "source": [
    "#### クラスタ係数"
   ]
  },
  {
   "cell_type": "code",
   "execution_count": 33,
   "metadata": {
    "collapsed": true
   },
   "outputs": [
    {
     "data": {
      "text/plain": [
       "{1: 1.0, 2: 1.0, 3: 1.0}"
      ]
     },
     "execution_count": 33,
     "metadata": {},
     "output_type": "execute_result"
    }
   ],
   "source": [
    "G = nx.Graph()\n",
    "G.add_edges_from([[1,2], [2, 3], [3,1]])\n",
    "nx.clustering(G)"
   ]
  },
  {
   "cell_type": "markdown",
   "metadata": {},
   "source": [
    "#### グラフ同型の判定"
   ]
  },
  {
   "cell_type": "code",
   "execution_count": 34,
   "metadata": {},
   "outputs": [
    {
     "name": "stdout",
     "output_type": "stream",
     "text": [
      "True\n"
     ]
    }
   ],
   "source": [
    "G = nx.complete_bipartite_graph(2,2) # 完全2部グラフ\n",
    "H = nx.cycle_graph(4) # 閉路グラフ\n",
    "\n",
    "print(nx.is_isomorphic(G, H))"
   ]
  },
  {
   "cell_type": "markdown",
   "metadata": {},
   "source": [
    "### サイクルの検出\n",
    "Returns a list of cycles which form a basis for cycles of G.\n",
    "A basis for cycles of a network is a minimal collection of cycles such that any cycle in the network can be written as a sum of cycles in the basis. Here summation of cycles is defined as “exclusive or” of the edges. Cycle bases are useful, e.g. when deriving equations for electric circuits using Kirchhoff’s Laws.\n",
    "\n",
    "- https://networkx.github.io/documentation/networkx-1.10/reference/generated/networkx.algorithms.cycles.cycle_basis.html#networkx.algorithms.cycles.cycle_basis"
   ]
  },
  {
   "cell_type": "code",
   "execution_count": 35,
   "metadata": {},
   "outputs": [
    {
     "data": {
      "image/png": "[encoded data removed]",
      "text/plain": [
       "<Figure size 350x300 with 1 Axes>"
      ]
     },
     "metadata": {},
     "output_type": "display_data"
    }
   ],
   "source": [
    "G=nx.DiGraph()\n",
    "G.add_cycle([0,1,2,3])\n",
    "G.add_cycle([0,3,4,5])\n",
    "G.add_cycle([0,1,2])\n",
    "G.add_cycle([1,8,9])\n",
    "G.add_cycle([3,4,5,8])\n",
    "nx.draw_networkx(G)"
   ]
  },
  {
   "cell_type": "code",
   "execution_count": 40,
   "metadata": {},
   "outputs": [
    {
     "data": {
      "text/plain": [
       "[[0, 3, 4, 5, 8, 9, 1, 2],\n",
       " [0, 3, 4, 5],\n",
       " [0, 3],\n",
       " [0, 1, 8, 3, 4, 5],\n",
       " [0, 1, 8, 3],\n",
       " [0, 1, 2],\n",
       " [0, 1, 2, 3, 4, 5],\n",
       " [0, 1, 2, 3],\n",
       " [1, 8, 9],\n",
       " [1, 2, 3, 4, 5, 8, 9],\n",
       " [8, 3, 4, 5]]"
      ]
     },
     "execution_count": 40,
     "metadata": {},
     "output_type": "execute_result"
    }
   ],
   "source": [
    "list(nx.simple_cycles(G))"
   ]
  },
  {
   "cell_type": "code",
   "execution_count": null,
   "metadata": {},
   "outputs": [],
   "source": [
    "cycle_basis(G, 1)"
   ]
  },
  {
   "cell_type": "code",
   "execution_count": 38,
   "metadata": {
    "collapsed": true
   },
   "outputs": [],
   "source": [
    "def cycle_basis(G, root=None):\n",
    "    \n",
    "    gnodes=set(G.nodes())\n",
    "    C = []\n",
    "    while gnodes:  # gnodesが空[]になるまで繰り返す\n",
    "        if root is None:\n",
    "            root=gnodes.pop()     # gnodesの最初の要素を取り出す\n",
    "        \n",
    "        N0 = [root]                             # 　サイクルの起点となるノードのリスト\n",
    "        pre = {root: root}                  #  {n: a}: nを含むパスでnの1つ前のノードがaである（a -> nというパスが存在）\n",
    "        n0_used = {root: set()}       #  {n: {a, b, ...}}: nから始まるパスで， n->a, n->bというパスを既に調べた\n",
    "        \n",
    "        # N0が空[]になるまで繰り返す\n",
    "        while N0: \n",
    "            n0=N0.pop() \n",
    "            n1_used = n0_used[n0]   # {b1, b2, ...}: n0の隣接ノードのうち既に調べたノード\n",
    "            \n",
    "            # n0の隣接ノードを順に調べる\n",
    "            for n1 in G[n0]:\n",
    "                \n",
    "                if n1 not in n0_used:    # n1を起点とするサイクルが未調査\n",
    "                    \n",
    "                    N0.append(n1)         # n1をサイクルの起点ノードに追加\n",
    "                    pre[n1] = n0             # n1の1つ前のノード\n",
    "                    n0_used[n1] = set([n0])    # n1を起点とするパスでn1->n0を調べた\n",
    "                    \n",
    "                elif n1 == n0:        # 自己ループ\n",
    "                    C.append([n0])\n",
    "                    \n",
    "                elif n1 not in n1_used:  # n0->n1をまだ調べてない\n",
    "                    c = [n1, n0]\n",
    "                    p=pre[n0]\n",
    "                    \n",
    "                    while p not in n0_used[n1]:\n",
    "                        c.append(p)\n",
    "                        p=pre[p]\n",
    "                    c.append(p)\n",
    "                    C.append(c)\n",
    "                    n0_used[n1].add(n0)\n",
    "        \n",
    "        gnodes-=set(pre)\n",
    "        root=None\n",
    "    return C"
   ]
  },
  {
   "cell_type": "markdown",
   "metadata": {},
   "source": [
    "### 描画"
   ]
  },
  {
   "cell_type": "code",
   "execution_count": 1,
   "metadata": {
    "collapsed": true
   },
   "outputs": [],
   "source": [
    "import matplotlib.pyplot as plt"
   ]
  },
  {
   "cell_type": "code",
   "execution_count": 4,
   "metadata": {
    "collapsed": true
   },
   "outputs": [],
   "source": [
    "G = nx.path_graph(10)"
   ]
  },
  {
   "cell_type": "code",
   "execution_count": null,
   "metadata": {
    "collapsed": true
   },
   "outputs": [],
   "source": [
    "fig, ax = plt.subplots(figsize=(3,2))\n",
    "nx.draw(G, ax=ax)"
   ]
  },
  {
   "cell_type": "code",
   "execution_count": null,
   "metadata": {
    "collapsed": true
   },
   "outputs": [],
   "source": [
    "fig, ax = plt.subplots(figsize=(3,2))\n",
    "nx.draw_random(G, ax=ax)"
   ]
  },
  {
   "cell_type": "code",
   "execution_count": null,
   "metadata": {
    "collapsed": true
   },
   "outputs": [],
   "source": [
    "fig, ax = plt.subplots(figsize=(3,2))\n",
    "nx.draw_circular(G)"
   ]
  },
  {
   "cell_type": "code",
   "execution_count": null,
   "metadata": {
    "collapsed": true
   },
   "outputs": [],
   "source": [
    "fig, ax = plt.subplots(figsize=(3,2))\n",
    "nx.draw_spectral(G)"
   ]
  },
  {
   "cell_type": "markdown",
   "metadata": {},
   "source": [
    "#### 様々な描画\n",
    "\n",
    "- オプション：https://networkx.github.io/documentation/networkx-1.10/reference/generated/networkx.drawing.nx_pylab.draw_networkx.html\n",
    "\n",
    "- ノードの位置を指定：http://sinhrks.hatenablog.com/entry/2014/12/27/232506"
   ]
  },
  {
   "cell_type": "code",
   "execution_count": 9,
   "metadata": {},
   "outputs": [
    {
     "data": {
      "text/plain": [
       "{1: 'first', 2: 'second'}"
      ]
     },
     "execution_count": 9,
     "metadata": {},
     "output_type": "execute_result"
    }
   ],
   "source": [
    "x = [1, 2]\n",
    "y = ['first', 'second']\n",
    "dict(zip(x, y))"
   ]
  },
  {
   "cell_type": "code",
   "execution_count": 10,
   "metadata": {},
   "outputs": [
    {
     "data": {
      "image/png": "[encoded data removed]",
      "text/plain": [
       "<Figure size 250x250 with 1 Axes>"
      ]
     },
     "metadata": {},
     "output_type": "display_data"
    }
   ],
   "source": [
    "# 各ノードの描画位置を指定する辞書 { ノードのキー : (x座標, y座標) }\n",
    "fig, ax = plt.subplots(figsize=(2.5, 2.5))\n",
    "G = nx.Graph()\n",
    "G.add_edges_from([[0, 2], [2, 1], [0, 1]])\n",
    "xy = ar([[1,2], [2, 3], [3, 1]])\n",
    "pos = {n: (xy[n][0], xy[n][1]) for n in G.nodes()}  # ノードの座標\n",
    "la = {n: n+10 for n in G.nodes()}                   # ノードのラベル\n",
    "nx.draw_networkx(G, ax=ax, pos=pos, node_size=300, node_shape='D',\\\n",
    "                 node_color='k', font_color='w', labels=la)"
   ]
  },
  {
   "cell_type": "markdown",
   "metadata": {},
   "source": [
    "### Graphviz"
   ]
  },
  {
   "cell_type": "markdown",
   "metadata": {},
   "source": [
    "- 参考\n",
    "    - http://tessy.org/wiki/index.php?Graphviz%A5%E1%A5%E2\n",
    "    - https://graphviz.readthedocs.io/en/stable/api.html    \n",
    "    - https://qiita.com/rubytomato@github/items/51779135bc4b77c8c20d"
   ]
  },
  {
   "cell_type": "markdown",
   "metadata": {},
   "source": [
    "- インストール\n",
    "    \n",
    "        pip install graphviz\n",
    "        pip install pygraphviz"
   ]
  },
  {
   "cell_type": "code",
   "execution_count": 11,
   "metadata": {},
   "outputs": [
    {
     "name": "stdout",
     "output_type": "stream",
     "text": [
      "digraph {\n",
      "\tnode [shape=circle]\n",
      "\tA [label=B]\n",
      "\tboss0 [label=A]\n",
      "\tboss0 -> B\n",
      "}\n"
     ]
    },
    {
     "data": {
      "text/plain": [
       "'/Users/Narizuka/Desktop/test.png'"
      ]
     },
     "execution_count": 11,
     "metadata": {},
     "output_type": "execute_result"
    }
   ],
   "source": [
    "import graphviz as gv\n",
    "\n",
    "G = gv.Digraph(format=\"png\") # 有向グラフ初期化\n",
    "G.attr('node', shape='circle') # ノードの形\n",
    "\n",
    "G.node(\"A\",\"B\") # ノード作成\n",
    "\n",
    "N =  1  # ノード数\n",
    "for i in range(N):\n",
    "    G.node(\"boss\"+str(i),\"A\") \n",
    "    G.edge(\"boss\"+str(i), \"B\" ) # edge(元, 先) で線をつなぐ\n",
    "\n",
    "print(G)\n",
    "G.render('/Users/Narizuka/Desktop/test') # 画像作成"
   ]
  },
  {
   "cell_type": "markdown",
   "metadata": {},
   "source": [
    "### グラフの生成\n",
    "---"
   ]
  },
  {
   "cell_type": "markdown",
   "metadata": {},
   "source": [
    "#### ランダムグラフ"
   ]
  },
  {
   "cell_type": "markdown",
   "metadata": {},
   "source": [
    "- Erdos Renyi"
   ]
  },
  {
   "cell_type": "code",
   "execution_count": null,
   "metadata": {
    "collapsed": true
   },
   "outputs": [],
   "source": [
    "G = nx.erdos_renyi_graph(10, 0.5)  # p=0.5\n",
    "nx.draw(G)"
   ]
  },
  {
   "cell_type": "markdown",
   "metadata": {},
   "source": [
    "## コミュニティ検出\n",
    "---"
   ]
  },
  {
   "cell_type": "markdown",
   "metadata": {},
   "source": [
    "- https://networkx.github.io/documentation/stable/reference/algorithms/community.html"
   ]
  },
  {
   "cell_type": "markdown",
   "metadata": {},
   "source": [
    "### 空手クラブネットワークの生成"
   ]
  },
  {
   "cell_type": "code",
   "execution_count": 16,
   "metadata": {},
   "outputs": [
    {
     "data": {
      "image/png": "[encoded data removed]",
      "text/plain": [
       "<Figure size 250x250 with 1 Axes>"
      ]
     },
     "metadata": {},
     "output_type": "display_data"
    }
   ],
   "source": [
    "from networkx.algorithms import community\n",
    "G = nx.karate_club_graph()\n",
    "fig = plt.figure(figsize=(2.5, 2.5))\n",
    "la = {n: n for n in G.nodes()}   \n",
    "nx.draw(G, node_size=100, labels=la)"
   ]
  },
  {
   "cell_type": "markdown",
   "metadata": {},
   "source": [
    "### エッジの媒介中心性による方法\n",
    "---\n",
    "- M. Girvan and M. E. J. Newman, PNAS 99, 7821, 2002.\n",
    "- M. E. J. Newman and M. Girvan, PRE 69, 026113, 2004."
   ]
  },
  {
   "cell_type": "code",
   "execution_count": 17,
   "metadata": {},
   "outputs": [],
   "source": [
    "# 最初\n",
    "import itertools\n",
    "comp = community.girvan_newman(G)\n",
    "k_max, C, Q = len(G.nodes()), [], []\n",
    "for c in itertools.islice(comp, k_max):\n",
    "    C.append(sorted(c))\n",
    "    Q.append([len(c), community.modularity(G, c)])\n",
    "Q = ar(Q)"
   ]
  },
  {
   "cell_type": "code",
   "execution_count": 18,
   "metadata": {},
   "outputs": [
    {
     "data": {
      "text/plain": [
       "array([5.        , 0.40129849])"
      ]
     },
     "execution_count": 18,
     "metadata": {},
     "output_type": "execute_result"
    }
   ],
   "source": [
    "# モジュラリティ最大となるコミュニティ数\n",
    "Q[Q[:, 1]==Q[:, 1].max()][0]"
   ]
  },
  {
   "cell_type": "markdown",
   "metadata": {},
   "source": [
    "### モジュラリティ最大化（貪欲法）\n",
    "---\n",
    "- A. Clauset, M.E.J. Newman, C. Moore, PRE 70, 066111, 2004."
   ]
  },
  {
   "cell_type": "markdown",
   "metadata": {},
   "source": [
    "※重み付きの場合は実装されていない\n",
    "- https://stackoverflow.com/questions/52408739/networkx-calculate-a-a-good-partition-and-modularity-of-it"
   ]
  },
  {
   "cell_type": "code",
   "execution_count": 19,
   "metadata": {},
   "outputs": [],
   "source": [
    "from networkx.algorithms.community import greedy_modularity_communities"
   ]
  },
  {
   "cell_type": "code",
   "execution_count": 20,
   "metadata": {},
   "outputs": [
    {
     "data": {
      "text/plain": [
       "[frozenset({8,\n",
       "            14,\n",
       "            15,\n",
       "            18,\n",
       "            20,\n",
       "            22,\n",
       "            23,\n",
       "            24,\n",
       "            25,\n",
       "            26,\n",
       "            27,\n",
       "            28,\n",
       "            29,\n",
       "            30,\n",
       "            31,\n",
       "            32,\n",
       "            33}),\n",
       " frozenset({1, 2, 3, 7, 9, 12, 13, 17, 21}),\n",
       " frozenset({0, 4, 5, 6, 10, 11, 16, 19})]"
      ]
     },
     "execution_count": 20,
     "metadata": {},
     "output_type": "execute_result"
    }
   ],
   "source": [
    "C = greedy_modularity_communities(G, weight=None)\n",
    "C"
   ]
  },
  {
   "cell_type": "code",
   "execution_count": 21,
   "metadata": {},
   "outputs": [
    {
     "data": {
      "text/plain": [
       "{0: [8, 14, 15, 18, 20, 22, 23, 24, 25, 26, 27, 28, 29, 30, 31, 32, 33],\n",
       " 1: [1, 2, 3, 7, 9, 12, 13, 17, 21],\n",
       " 2: [0, 4, 5, 6, 10, 11, 16, 19]}"
      ]
     },
     "execution_count": 21,
     "metadata": {},
     "output_type": "execute_result"
    }
   ],
   "source": [
    "C = {i: sorted(c) for (i, c) in enumerate(C)}\n",
    "C"
   ]
  },
  {
   "cell_type": "code",
   "execution_count": 22,
   "metadata": {},
   "outputs": [
    {
     "data": {
      "text/plain": [
       "0.3806706114398417"
      ]
     },
     "execution_count": 22,
     "metadata": {},
     "output_type": "execute_result"
    }
   ],
   "source": [
    "# モジュラリティを計算\n",
    "nx.algorithms.community.modularity(G, C.values())"
   ]
  },
  {
   "cell_type": "markdown",
   "metadata": {},
   "source": [
    "### infomap\n",
    "---\n",
    "networkxでは実装されていないので，以下をインストールする\n",
    "- http://www.mapequation.org/code.html#Examples-with-python\n",
    "\n",
    "- zipファイル，またはgithubからcloneして，適当な場所に展開する．\n",
    "- 展開したフォルダに移動して，　makeする．"
   ]
  },
  {
   "cell_type": "markdown",
   "metadata": {},
   "source": [
    "### GMLフォーマットでの出力\n",
    "---"
   ]
  },
  {
   "cell_type": "code",
   "execution_count": 62,
   "metadata": {},
   "outputs": [],
   "source": [
    "nx.write_gml(G, '/Users/Narizuka/Desktop/karate.gml')"
   ]
  },
  {
   "cell_type": "markdown",
   "metadata": {},
   "source": [
    "# iGraph\n",
    "---"
   ]
  },
  {
   "cell_type": "markdown",
   "metadata": {},
   "source": [
    "## 基礎"
   ]
  },
  {
   "cell_type": "markdown",
   "metadata": {},
   "source": [
    "### インストール"
   ]
  },
  {
   "cell_type": "markdown",
   "metadata": {},
   "source": [
    "    brew install igraph\n",
    "    brew install cairo --use-clang\n",
    "    pip install python-igraph\n",
    "    pip install pycairo\n",
    "    pip install cairocffi"
   ]
  },
  {
   "cell_type": "markdown",
   "metadata": {},
   "source": [
    "以下から__init__.pyをダウンロードする\n",
    "- https://github.com/igraph/python-igraph/blob/8864b46849b031a3013764d03e167222963c0f5d/igraph/drawing/__init__.py\n",
    "\n",
    "\"/Users/Narizuka/.pyenv/versions/3.6.1/lib/python3.6/site-packages/igraph/drawing/__init__.py\"と置き換える"
   ]
  },
  {
   "cell_type": "markdown",
   "metadata": {},
   "source": [
    "### 基本的な使い方\n",
    "- マニュアル：https://media.readthedocs.org/pdf/python-igraph/latest/python-igraph.pdf\n",
    "- https://qiita.com/scapegoat_11_/items/d99cbcfea053d9fcd8d2"
   ]
  },
  {
   "cell_type": "markdown",
   "metadata": {},
   "source": [
    "### 例"
   ]
  },
  {
   "cell_type": "code",
   "execution_count": 24,
   "metadata": {},
   "outputs": [
    {
     "data": {
      "image/svg+xml": [
       "<?xml version=\"1.0\" encoding=\"UTF-8\"?>\n",
       "<svg xmlns=\"http://www.w3.org/2000/svg\" xmlns:xlink=\"http://www.w3.org/1999/xlink\" width=\"200pt\" height=\"200pt\" viewBox=\"0 0 200 200\" version=\"1.1\">\n",
       "<defs>\n",
       "<g>\n",
       "<symbol overflow=\"visible\" id=\"glyph0-0\">\n",
       "<path style=\"stroke:none;\" d=\"\"/>\n",
       "</symbol>\n",
       "<symbol overflow=\"visible\" id=\"glyph0-1\">\n",
       "<path style=\"stroke:none;\" d=\"M 10.976562 -0.910156 C 10.78125 0.0273438 10.683594 0.152344 10.09375 0.152344 C 9.660156 0.152344 9.128906 0.0976562 8.484375 -0.0273438 C 8.582031 0.292969 8.625 0.53125 8.625 0.867188 C 9.296875 0.925781 9.730469 0.953125 10.09375 0.953125 C 10.890625 0.953125 11.144531 0.855469 11.4375 0.449219 C 11.621094 0.183594 11.691406 -0.0703125 11.828125 -0.910156 C 12.402344 -0.910156 12.640625 -0.894531 13.019531 -0.855469 L 13.019531 -1.765625 C 12.683594 -1.695312 12.472656 -1.679688 11.957031 -1.679688 C 12.066406 -2.535156 12.136719 -3.304688 12.207031 -4.257812 C 12.726562 -4.257812 13.007812 -4.226562 13.441406 -4.171875 L 13.441406 -5.109375 C 13.132812 -5.054688 12.90625 -5.039062 12.265625 -5.027344 C 12.292969 -5.613281 12.304688 -5.78125 12.335938 -6.371094 C 12.375 -7.726562 12.375 -7.726562 12.445312 -8.078125 C 12.152344 -8.035156 11.761719 -8.023438 11.019531 -8.023438 L 6.972656 -8.023438 C 6.355469 -8.023438 6.1875 -8.023438 5.9375 -8.050781 C 5.949219 -7.882812 5.949219 -7.796875 5.949219 -7.671875 C 5.949219 -7.097656 5.839844 -5.90625 5.710938 -5.027344 C 5.011719 -5.027344 4.71875 -5.054688 4.410156 -5.109375 L 4.410156 -4.171875 C 4.789062 -4.242188 5.011719 -4.257812 5.585938 -4.257812 C 5.292969 -2.507812 5.054688 -1.496094 4.605469 -0.183594 L 5.53125 -0.0429688 C 5.65625 -0.503906 5.699219 -0.628906 5.769531 -0.910156 Z M 9.253906 -5.027344 C 9.339844 -5.78125 9.339844 -5.78125 9.449219 -7.265625 L 11.523438 -7.265625 C 11.492188 -6.230469 11.464844 -5.851562 11.425781 -5.027344 Z M 11.367188 -4.257812 C 11.296875 -3.207031 11.214844 -2.464844 11.117188 -1.679688 L 8.804688 -1.679688 C 9.015625 -2.96875 9.015625 -2.96875 9.15625 -4.257812 Z M 5.949219 -1.679688 C 6.105469 -2.339844 6.257812 -3.191406 6.425781 -4.257812 L 8.359375 -4.257812 C 8.289062 -3.597656 8.191406 -2.96875 8.132812 -2.589844 C 8.023438 -1.960938 8.023438 -1.960938 7.964844 -1.679688 Z M 6.539062 -5.027344 C 6.636719 -5.726562 6.707031 -6.34375 6.777344 -7.265625 L 8.625 -7.265625 C 8.539062 -5.808594 8.539062 -5.808594 8.457031 -5.027344 Z M 7.054688 -10.246094 C 7.195312 -10.613281 7.265625 -10.792969 7.40625 -11.214844 C 7.460938 -11.394531 7.488281 -11.453125 7.546875 -11.59375 L 6.59375 -11.761719 C 6.539062 -11.394531 6.453125 -11.046875 6.328125 -10.695312 C 5.90625 -9.507812 5.335938 -8.566406 4.425781 -7.546875 C 4.816406 -7.351562 4.957031 -7.238281 5.125 -7.015625 C 5.894531 -7.964844 6.242188 -8.511719 6.691406 -9.4375 L 11.703125 -9.4375 C 12.335938 -9.4375 12.753906 -9.421875 13.175781 -9.378906 L 13.175781 -10.332031 C 12.824219 -10.277344 12.417969 -10.246094 11.71875 -10.246094 Z M 2.507812 -8.988281 L 1.777344 -8.988281 C 1.328125 -8.988281 1.023438 -9.003906 0.796875 -9.042969 L 0.796875 -8.175781 C 1.023438 -8.21875 1.34375 -8.230469 1.777344 -8.230469 L 2.394531 -8.230469 C 2.253906 -7.546875 2.101562 -6.972656 1.863281 -6.300781 C 1.429688 -5.027344 0.992188 -4.171875 0.308594 -3.191406 C 0.53125 -2.980469 0.644531 -2.828125 0.867188 -2.449219 C 1.625 -3.625 2.03125 -4.632812 2.574219 -6.691406 C 2.507812 -5.265625 2.507812 -5.082031 2.507812 -4.507812 L 2.507812 -0.574219 C 2.507812 0.152344 2.476562 0.644531 2.421875 1.050781 L 3.414062 1.050781 C 3.359375 0.65625 3.332031 0.167969 3.332031 -0.574219 L 3.332031 -4.859375 C 3.332031 -5.433594 3.316406 -6.019531 3.277344 -7.097656 C 3.625 -6.144531 3.820312 -5.753906 4.324219 -5.027344 C 4.507812 -5.363281 4.59375 -5.460938 4.84375 -5.738281 C 4.15625 -6.511719 3.695312 -7.265625 3.359375 -8.230469 L 3.710938 -8.230469 C 4.03125 -8.230469 4.296875 -8.21875 4.578125 -8.191406 L 4.578125 -9.042969 C 4.324219 -9.003906 4.101562 -8.988281 3.695312 -8.988281 L 3.332031 -8.988281 L 3.332031 -10.304688 C 3.332031 -10.976562 3.347656 -11.394531 3.402344 -11.730469 L 2.4375 -11.730469 C 2.492188 -11.425781 2.507812 -11.089844 2.507812 -10.289062 Z M 2.507812 -8.988281 \"/>\n",
       "</symbol>\n",
       "<symbol overflow=\"visible\" id=\"glyph0-2\">\n",
       "<path style=\"stroke:none;\" d=\"M 12.601562 0.855469 C 12.542969 0.378906 12.515625 -0.125 12.515625 -0.769531 L 12.515625 -9.464844 C 12.515625 -10.023438 12.53125 -10.429688 12.585938 -10.863281 C 12.054688 -10.808594 11.605469 -10.792969 10.988281 -10.792969 L 3.039062 -10.792969 C 2.40625 -10.792969 1.960938 -10.808594 1.429688 -10.863281 C 1.46875 -10.414062 1.496094 -9.980469 1.496094 -9.464844 L 1.496094 -0.769531 C 1.496094 -0.125 1.46875 0.351562 1.414062 0.855469 L 2.394531 0.855469 L 2.394531 0 L 11.621094 0 L 11.621094 0.855469 Z M 2.394531 -9.980469 L 6.410156 -9.980469 L 6.410156 -5.964844 L 2.394531 -5.964844 Z M 7.292969 -9.980469 L 11.621094 -9.980469 L 11.621094 -5.964844 L 7.292969 -5.964844 Z M 2.394531 -5.164062 L 6.410156 -5.164062 L 6.410156 -0.8125 L 2.394531 -0.8125 Z M 7.292969 -5.164062 L 11.621094 -5.164062 L 11.621094 -0.8125 L 7.292969 -0.8125 Z M 7.292969 -5.164062 \"/>\n",
       "</symbol>\n",
       "<symbol overflow=\"visible\" id=\"glyph0-3\">\n",
       "<path style=\"stroke:none;\" d=\"M 3.808594 -9.632812 C 3.09375 -9.632812 2.675781 -9.644531 2.199219 -9.703125 C 2.253906 -9.253906 2.269531 -8.75 2.269531 -7.964844 L 2.269531 -0.839844 C 2.269531 0 2.238281 0.433594 2.183594 0.855469 L 3.207031 0.855469 L 3.207031 0.0429688 L 10.808594 0.0429688 L 10.808594 0.855469 L 11.828125 0.855469 C 11.761719 0.449219 11.746094 0.0429688 11.746094 -0.8125 L 11.746094 -7.964844 C 11.746094 -8.792969 11.761719 -9.210938 11.816406 -9.703125 C 11.3125 -9.644531 10.90625 -9.632812 10.179688 -9.632812 L 6.511719 -9.632812 C 6.777344 -10.109375 7.070312 -10.695312 7.292969 -11.257812 C 7.363281 -11.4375 7.363281 -11.4375 7.40625 -11.507812 L 6.371094 -11.71875 C 6.214844 -11.058594 5.9375 -10.375 5.515625 -9.632812 Z M 3.207031 -8.777344 L 10.808594 -8.777344 L 10.808594 -5.402344 L 3.207031 -5.402344 Z M 3.207031 -4.550781 L 10.808594 -4.550781 L 10.808594 -0.824219 L 3.207031 -0.824219 Z M 3.207031 -4.550781 \"/>\n",
       "</symbol>\n",
       "<symbol overflow=\"visible\" id=\"glyph0-4\">\n",
       "<path style=\"stroke:none;\" d=\"M 6.679688 -4.605469 L 4.632812 -4.355469 C 4.128906 -4.285156 3.640625 -4.257812 3.261719 -4.257812 L 3.332031 -3.359375 C 3.792969 -3.457031 4.128906 -3.515625 4.675781 -3.585938 L 6.679688 -3.835938 L 6.679688 -2.449219 L 4.355469 -2.171875 C 3.808594 -2.101562 3.359375 -2.070312 2.996094 -2.070312 L 3.066406 -1.160156 C 3.5 -1.261719 3.988281 -1.34375 4.410156 -1.398438 L 6.679688 -1.664062 L 6.679688 -0.378906 C 6.679688 0.714844 7.027344 0.855469 9.855469 0.855469 C 11.59375 0.855469 12.304688 0.769531 12.628906 0.546875 C 12.976562 0.28125 13.144531 -0.210938 13.300781 -1.46875 C 12.976562 -1.527344 12.710938 -1.625 12.445312 -1.777344 C 12.375 -0.839844 12.265625 -0.308594 12.082031 -0.167969 C 11.886719 0 11.324219 0.0546875 9.882812 0.0546875 C 7.757812 0.0546875 7.546875 0 7.546875 -0.558594 L 7.546875 -1.777344 L 11.59375 -2.269531 C 12.097656 -2.324219 12.472656 -2.351562 12.949219 -2.351562 L 12.867188 -3.277344 C 12.542969 -3.179688 12.097656 -3.09375 11.535156 -3.023438 L 7.546875 -2.546875 L 7.546875 -3.949219 L 10.863281 -4.355469 C 11.296875 -4.410156 11.789062 -4.453125 12.054688 -4.453125 C 12.097656 -4.453125 12.152344 -4.453125 12.222656 -4.453125 L 12.152344 -5.375 C 11.800781 -5.277344 11.382812 -5.195312 10.808594 -5.125 L 7.546875 -4.71875 L 7.546875 -6.007812 C 8.734375 -6.242188 9.660156 -6.46875 10.808594 -6.804688 C 11.117188 -6.886719 11.117188 -6.886719 11.242188 -6.929688 L 10.585938 -7.644531 C 10.332031 -7.503906 10.121094 -7.421875 9.449219 -7.222656 C 7.796875 -6.707031 5.542969 -6.328125 3.414062 -6.214844 C 3.570312 -5.992188 3.695312 -5.753906 3.792969 -5.472656 C 4.941406 -5.585938 5.710938 -5.699219 6.679688 -5.851562 Z M 11.128906 -7.867188 C 11.703125 -7.867188 12.082031 -7.855469 12.515625 -7.824219 C 12.488281 -8.160156 12.472656 -8.441406 12.472656 -8.863281 L 12.472656 -10.09375 C 12.472656 -10.515625 12.488281 -10.835938 12.515625 -11.171875 C 12.152344 -11.128906 11.746094 -11.117188 11.046875 -11.117188 L 3.652344 -11.117188 C 2.871094 -11.117188 2.4375 -11.128906 1.960938 -11.171875 C 2.003906 -10.753906 2.015625 -10.277344 2.015625 -9.632812 C 2.015625 -3.695312 1.707031 -1.765625 0.460938 0.238281 C 0.824219 0.488281 0.964844 0.644531 1.203125 0.953125 C 1.804688 -0.0859375 2.128906 -0.882812 2.367188 -1.972656 C 2.730469 -3.542969 2.855469 -4.957031 2.882812 -7.867188 Z M 2.898438 -8.652344 L 2.898438 -10.332031 L 11.621094 -10.332031 L 11.621094 -8.652344 Z M 2.898438 -8.652344 \"/>\n",
       "</symbol>\n",
       "<symbol overflow=\"visible\" id=\"glyph0-5\">\n",
       "<path style=\"stroke:none;\" d=\"M 6.382812 -1.191406 L 2.535156 -1.191406 L 2.535156 -7.53125 C 2.535156 -8.105469 2.546875 -8.496094 2.605469 -8.890625 L 1.496094 -8.890625 C 1.566406 -8.484375 1.597656 -8.050781 1.597656 -7.519531 L 1.597656 -0.53125 C 1.597656 -0.0273438 1.566406 0.292969 1.496094 0.882812 L 2.535156 0.882812 L 2.535156 -0.292969 L 11.480469 -0.292969 L 11.480469 0.882812 L 12.515625 0.882812 C 12.445312 0.378906 12.417969 -0.0429688 12.417969 -0.601562 L 12.417969 -7.574219 C 12.417969 -8.035156 12.445312 -8.414062 12.503906 -8.890625 L 11.394531 -8.890625 C 11.453125 -8.484375 11.480469 -8.175781 11.480469 -7.589844 L 11.480469 -1.191406 L 7.351562 -1.191406 L 7.351562 -10.191406 C 7.351562 -10.738281 7.378906 -11.089844 7.449219 -11.492188 L 6.285156 -11.492188 C 6.355469 -11.074219 6.382812 -10.722656 6.382812 -10.191406 Z M 6.382812 -1.191406 \"/>\n",
       "</symbol>\n",
       "<symbol overflow=\"visible\" id=\"glyph0-6\">\n",
       "<path style=\"stroke:none;\" d=\"M 8.890625 -8.679688 C 8.289062 -7.140625 7.867188 -6.3125 7.222656 -5.320312 C 6.480469 -4.1875 5.472656 -3.066406 4.410156 -2.171875 C 3.277344 -1.230469 2.378906 -0.6875 0.742188 0.113281 C 1.050781 0.390625 1.175781 0.558594 1.386719 0.9375 C 2.464844 0.390625 2.898438 0.140625 3.570312 -0.320312 C 4.4375 -0.925781 5.234375 -1.582031 5.9375 -2.28125 C 6.550781 -2.898438 7.140625 -3.597656 7.601562 -4.226562 C 8.765625 -1.988281 10.316406 -0.433594 12.78125 0.9375 C 12.976562 0.558594 13.144531 0.308594 13.441406 0 C 12.613281 -0.378906 12.277344 -0.558594 11.691406 -0.980469 C 10.808594 -1.582031 10.109375 -2.199219 9.574219 -2.84375 C 8.972656 -3.554688 8.566406 -4.1875 8.148438 -5.027344 C 8.707031 -5.921875 9.339844 -7.152344 9.660156 -7.953125 C 9.953125 -8.679688 9.980469 -8.765625 10.121094 -9.03125 L 9.617188 -9.546875 C 9.351562 -9.507812 9.03125 -9.492188 8.457031 -9.492188 L 5.65625 -9.492188 C 5.878906 -9.96875 6.0625 -10.359375 6.230469 -10.792969 C 6.398438 -11.199219 6.441406 -11.285156 6.539062 -11.464844 L 5.472656 -11.703125 C 5.265625 -10.554688 4.492188 -8.960938 3.554688 -7.6875 C 2.84375 -6.734375 2.199219 -6.089844 1.191406 -5.335938 C 1.496094 -5.125 1.695312 -4.941406 1.917969 -4.648438 C 3.375 -5.851562 4.382812 -7.085938 5.25 -8.679688 Z M 8.890625 -8.679688 \"/>\n",
       "</symbol>\n",
       "<symbol overflow=\"visible\" id=\"glyph0-7\">\n",
       "<path style=\"stroke:none;\" d=\"M 8.148438 -5.222656 L 5.433594 -5.222656 C 4.871094 -5.222656 4.453125 -5.25 4.046875 -5.304688 L 4.046875 -4.355469 C 4.4375 -4.410156 4.898438 -4.4375 5.433594 -4.4375 L 7.855469 -4.4375 C 7.222656 -3.542969 6.914062 -3.191406 6.242188 -2.589844 C 5.363281 -1.804688 4.621094 -1.300781 3.5 -0.757812 C 3.765625 -0.519531 3.960938 -0.28125 4.144531 0.0273438 C 4.914062 -0.40625 5.390625 -0.742188 6.074219 -1.328125 C 7.027344 -2.128906 7.546875 -2.714844 8.203125 -3.765625 C 8.160156 -3.375 8.148438 -2.910156 8.148438 -2.253906 L 8.148438 -0.351562 C 8.148438 0.152344 8.121094 0.589844 8.0625 1.023438 L 9.070312 1.023438 C 9.003906 0.601562 8.988281 0.167969 8.988281 -0.351562 L 8.988281 -2.269531 C 8.988281 -2.898438 8.960938 -3.332031 8.917969 -3.765625 C 9.589844 -2.773438 10.011719 -2.28125 10.792969 -1.609375 C 11.507812 -0.980469 12.164062 -0.519531 13.019531 0 C 13.230469 -0.363281 13.382812 -0.589844 13.648438 -0.867188 C 12.671875 -1.300781 11.929688 -1.765625 11.117188 -2.4375 C 10.375 -3.039062 10.023438 -3.402344 9.226562 -4.4375 L 11.859375 -4.4375 C 12.265625 -4.4375 12.738281 -4.410156 13.214844 -4.355469 L 13.214844 -5.304688 C 12.824219 -5.25 12.363281 -5.222656 11.84375 -5.222656 L 8.988281 -5.222656 L 8.988281 -6.707031 L 10.851562 -6.707031 C 11.382812 -6.707031 12.011719 -6.679688 12.320312 -6.648438 C 12.277344 -7.015625 12.265625 -7.320312 12.265625 -7.894531 L 12.265625 -9.703125 C 12.265625 -10.277344 12.265625 -10.542969 12.320312 -10.976562 C 11.929688 -10.921875 11.550781 -10.90625 10.78125 -10.90625 L 6.648438 -10.90625 C 5.894531 -10.90625 5.503906 -10.921875 5.109375 -10.976562 C 5.152344 -10.570312 5.164062 -10.261719 5.164062 -9.730469 L 5.164062 -7.910156 C 5.164062 -7.390625 5.136719 -7.027344 5.109375 -6.648438 C 5.558594 -6.691406 5.894531 -6.707031 6.59375 -6.707031 L 8.148438 -6.707031 Z M 6.035156 -10.109375 L 11.382812 -10.109375 L 11.382812 -7.503906 L 6.035156 -7.503906 Z M 2.308594 -0.65625 C 2.308594 0.0546875 2.28125 0.488281 2.226562 1.023438 L 3.234375 1.023438 C 3.179688 0.519531 3.164062 0.0273438 3.164062 -0.617188 L 3.164062 -8.0625 C 3.683594 -9.070312 4.058594 -9.980469 4.285156 -10.683594 C 4.394531 -11.074219 4.453125 -11.242188 4.535156 -11.4375 L 3.585938 -11.746094 C 3.515625 -11.257812 3.304688 -10.527344 3.023438 -9.8125 C 2.394531 -8.160156 1.539062 -6.859375 0.308594 -5.640625 C 0.589844 -5.320312 0.589844 -5.320312 0.882812 -4.84375 C 1.609375 -5.628906 1.945312 -6.074219 2.351562 -6.816406 C 2.324219 -6.203125 2.308594 -5.683594 2.308594 -5.136719 Z M 2.308594 -0.65625 \"/>\n",
       "</symbol>\n",
       "<symbol overflow=\"visible\" id=\"glyph0-8\">\n",
       "<path style=\"stroke:none;\" d=\"M 4.03125 -9.003906 C 4.089844 -11.285156 4.089844 -11.285156 4.15625 -11.648438 L 3.09375 -11.648438 C 3.179688 -11.242188 3.191406 -11.019531 3.191406 -10.121094 C 3.191406 -9.6875 3.191406 -9.394531 3.164062 -9.003906 L 2.351562 -9.003906 C 1.652344 -9.003906 1.148438 -9.03125 0.8125 -9.101562 L 0.8125 -8.0625 C 1.191406 -8.132812 1.664062 -8.160156 2.28125 -8.160156 L 3.121094 -8.160156 C 2.980469 -5.640625 2.605469 -3.863281 1.890625 -2.339844 C 1.457031 -1.414062 1.105469 -0.910156 0.320312 -0.015625 C 0.628906 0.238281 0.8125 0.433594 1.035156 0.769531 C 1.75 -0.125 2.042969 -0.574219 2.449219 -1.371094 C 2.910156 -2.269531 3.21875 -3.109375 3.472656 -4.1875 C 3.753906 -5.402344 3.90625 -6.46875 4.003906 -8.160156 L 6.046875 -8.160156 C 6.035156 -6.664062 6.007812 -5.878906 5.9375 -4.550781 C 5.851562 -3.078125 5.585938 -1.246094 5.402344 -0.785156 C 5.304688 -0.546875 5.125 -0.449219 4.746094 -0.449219 C 4.339844 -0.449219 3.753906 -0.53125 3.109375 -0.671875 C 3.207031 -0.265625 3.234375 -0.152344 3.246094 0.253906 C 3.90625 0.351562 4.523438 0.40625 4.957031 0.40625 C 5.921875 0.40625 6.214844 0.0859375 6.46875 -1.316406 C 6.71875 -2.773438 6.886719 -4.96875 6.929688 -7.28125 C 6.945312 -8.652344 6.945312 -8.652344 7 -9.058594 C 6.578125 -9.015625 6.203125 -9.003906 5.542969 -9.003906 Z M 9.085938 -0.574219 L 11.984375 -0.574219 L 11.984375 0.433594 L 12.949219 0.433594 C 12.894531 0.015625 12.867188 -0.40625 12.867188 -0.9375 L 12.867188 -8.46875 C 12.867188 -9.140625 12.878906 -9.507812 12.9375 -9.941406 C 12.488281 -9.882812 12.265625 -9.871094 11.71875 -9.871094 L 9.367188 -9.871094 C 8.835938 -9.871094 8.539062 -9.882812 8.132812 -9.941406 C 8.191406 -9.507812 8.203125 -9.113281 8.203125 -8.46875 L 8.203125 -1.050781 C 8.203125 -0.476562 8.175781 0.152344 8.121094 0.546875 L 9.085938 0.546875 Z M 9.085938 -9.058594 L 11.984375 -9.058594 L 11.984375 -1.386719 L 9.085938 -1.386719 Z M 9.085938 -9.058594 \"/>\n",
       "</symbol>\n",
       "<symbol overflow=\"visible\" id=\"glyph0-9\">\n",
       "<path style=\"stroke:none;\" d=\"M 4.296875 -10.527344 C 4.324219 -10.667969 4.339844 -10.765625 4.355469 -10.878906 C 4.410156 -11.3125 4.410156 -11.367188 4.453125 -11.675781 L 3.527344 -11.675781 C 3.542969 -11.5625 3.554688 -11.464844 3.554688 -11.3125 C 3.554688 -11.117188 3.527344 -10.851562 3.472656 -10.527344 L 2.226562 -10.527344 C 1.609375 -10.527344 1.328125 -10.542969 0.980469 -10.597656 L 0.980469 -9.757812 C 1.300781 -9.800781 1.636719 -9.8125 2.183594 -9.8125 L 3.277344 -9.8125 C 2.882812 -8.695312 2.15625 -8.035156 0.628906 -7.40625 C 0.925781 -7.183594 1.078125 -7.015625 1.246094 -6.761719 C 2.855469 -7.53125 3.722656 -8.457031 4.128906 -9.8125 L 6.105469 -9.8125 C 6.0625 -9.101562 6.007812 -8.609375 5.9375 -8.386719 C 5.851562 -8.148438 5.726562 -8.09375 5.277344 -8.09375 C 4.984375 -8.09375 4.605469 -8.121094 4.128906 -8.191406 C 4.242188 -7.910156 4.296875 -7.714844 4.324219 -7.421875 C 4.71875 -7.390625 5.097656 -7.378906 5.417969 -7.378906 C 6.59375 -7.378906 6.761719 -7.628906 6.914062 -9.507812 C 6.972656 -10.191406 6.984375 -10.414062 7.015625 -10.570312 C 6.679688 -10.542969 6.371094 -10.527344 5.949219 -10.527344 Z M 11.578125 -7.53125 C 11.996094 -7.53125 12.390625 -7.519531 12.726562 -7.476562 C 12.683594 -7.824219 12.671875 -8.148438 12.671875 -8.566406 L 12.671875 -9.773438 C 12.671875 -10.234375 12.683594 -10.542969 12.726562 -10.90625 C 12.375 -10.863281 12.054688 -10.851562 11.550781 -10.851562 L 8.972656 -10.851562 C 8.46875 -10.851562 8.160156 -10.863281 7.8125 -10.90625 C 7.855469 -10.5 7.867188 -10.21875 7.867188 -9.773438 L 7.867188 -8.511719 C 7.867188 -8.105469 7.855469 -7.882812 7.8125 -7.476562 C 8.148438 -7.519531 8.527344 -7.53125 8.972656 -7.53125 Z M 8.707031 -10.121094 L 11.828125 -10.121094 L 11.828125 -8.246094 L 8.707031 -8.246094 Z M 3.933594 -6.734375 C 3.289062 -6.734375 2.84375 -6.746094 2.476562 -6.777344 C 2.519531 -6.355469 2.535156 -5.878906 2.535156 -5.277344 L 2.535156 -2.589844 C 2.535156 -1.847656 2.519531 -1.539062 2.476562 -1.175781 C 2.8125 -1.21875 3.347656 -1.230469 4.03125 -1.230469 L 10.050781 -1.230469 C 10.738281 -1.230469 11.269531 -1.21875 11.621094 -1.175781 C 11.578125 -1.46875 11.5625 -1.902344 11.5625 -2.617188 L 11.5625 -5.25 C 11.5625 -5.964844 11.5625 -6.382812 11.605469 -6.789062 C 11.226562 -6.746094 10.890625 -6.734375 10.148438 -6.734375 Z M 3.375 -6.035156 L 10.710938 -6.035156 L 10.710938 -5.109375 L 3.375 -5.109375 Z M 3.375 -4.453125 L 10.710938 -4.453125 L 10.710938 -3.515625 L 3.375 -3.515625 Z M 3.375 -2.855469 L 10.710938 -2.855469 L 10.710938 -1.917969 L 3.375 -1.917969 Z M 4.761719 -0.925781 C 3.515625 -0.222656 2.535156 0.0703125 0.785156 0.292969 C 1.0625 0.617188 1.160156 0.769531 1.300781 1.09375 C 3.316406 0.6875 4.144531 0.390625 5.472656 -0.40625 Z M 8.46875 -0.40625 C 9.855469 0.390625 10.921875 0.757812 12.753906 1.09375 C 12.921875 0.769531 13.0625 0.53125 13.285156 0.265625 C 11.296875 0.0273438 10.585938 -0.183594 9.113281 -0.910156 Z M 8.46875 -0.40625 \"/>\n",
       "</symbol>\n",
       "<symbol overflow=\"visible\" id=\"glyph0-10\">\n",
       "<path style=\"stroke:none;\" d=\"M 6.453125 -8.863281 C 5.753906 -7.558594 5.136719 -6.804688 4.003906 -5.824219 C 2.941406 -4.898438 2.042969 -4.339844 0.558594 -3.667969 C 0.8125 -3.402344 0.925781 -3.234375 1.105469 -2.898438 C 2.199219 -3.472656 2.589844 -3.710938 3.179688 -4.128906 C 3.179688 -3.851562 3.179688 -3.765625 3.179688 -3.414062 L 3.179688 -0.449219 C 3.179688 0.140625 3.148438 0.589844 3.09375 0.980469 L 4.074219 0.980469 L 4.074219 0.195312 L 9.925781 0.195312 L 9.925781 0.980469 L 10.90625 0.980469 C 10.851562 0.574219 10.820312 0.167969 10.820312 -0.449219 L 10.820312 -3.457031 C 10.820312 -3.890625 10.820312 -4.046875 10.835938 -4.199219 C 11.535156 -3.722656 11.96875 -3.472656 12.976562 -2.96875 C 13.117188 -3.234375 13.34375 -3.570312 13.539062 -3.792969 C 11.96875 -4.464844 11.019531 -5.039062 9.871094 -6.019531 C 8.75 -6.972656 8.121094 -7.699219 7.433594 -8.863281 Z M 4.242188 -4.59375 C 4.089844 -4.59375 4.046875 -4.59375 3.792969 -4.59375 C 5.363281 -5.851562 6.035156 -6.59375 6.984375 -8.121094 C 7.589844 -7.167969 7.894531 -6.777344 8.496094 -6.160156 C 9.058594 -5.585938 9.605469 -5.097656 10.277344 -4.59375 C 9.96875 -4.59375 9.925781 -4.59375 9.742188 -4.59375 Z M 4.074219 -3.792969 L 9.925781 -3.792969 L 9.925781 -0.601562 L 4.074219 -0.601562 Z M 4.996094 -11.5625 C 4.464844 -10.640625 4.058594 -10.148438 3.304688 -9.519531 C 2.703125 -9.015625 2.085938 -8.609375 1.050781 -8.0625 C 1.328125 -7.824219 1.429688 -7.714844 1.707031 -7.320312 C 2.84375 -8.007812 2.941406 -8.0625 3.527344 -8.539062 C 4.453125 -9.269531 5.027344 -9.898438 5.796875 -11.03125 Z M 8.21875 -11.089844 C 9.644531 -9.296875 10.640625 -8.398438 12.445312 -7.351562 C 12.628906 -7.65625 12.851562 -7.980469 13.035156 -8.160156 C 12.179688 -8.609375 11.773438 -8.863281 11.269531 -9.226562 C 10.304688 -9.941406 9.742188 -10.515625 8.945312 -11.59375 Z M 8.21875 -11.089844 \"/>\n",
       "</symbol>\n",
       "<symbol overflow=\"visible\" id=\"glyph0-11\">\n",
       "<path style=\"stroke:none;\" d=\"M 5.570312 -10.933594 C 2.632812 -10.933594 0.726562 -8.765625 0.726562 -5.402344 C 0.726562 -2.03125 2.605469 0.125 5.558594 0.125 C 8.511719 0.125 10.402344 -2.03125 10.402344 -5.402344 C 10.402344 -8.777344 8.527344 -10.933594 5.570312 -10.933594 Z M 5.585938 -0.867188 C 3.347656 -0.867188 1.863281 -2.675781 1.863281 -5.417969 C 1.863281 -8.160156 3.332031 -9.953125 5.570312 -9.953125 C 6.539062 -9.953125 7.378906 -9.617188 8.023438 -8.988281 C 8.835938 -8.175781 9.253906 -6.945312 9.253906 -5.402344 C 9.253906 -3.90625 8.804688 -2.605469 8.007812 -1.820312 C 7.378906 -1.191406 6.550781 -0.867188 5.585938 -0.867188 Z M 5.585938 -0.867188 \"/>\n",
       "</symbol>\n",
       "<symbol overflow=\"visible\" id=\"glyph0-12\">\n",
       "<path style=\"stroke:none;\" d=\"M 2.113281 -0.0859375 L 2.113281 -0.867188 C 2.113281 -1.050781 2.101562 -1.160156 2.070312 -1.429688 C 2.296875 -1.09375 2.421875 -0.9375 2.730469 -0.699219 C 3.375 -0.167969 4.019531 0.0546875 4.898438 0.0546875 C 7.085938 0.0546875 8.398438 -1.429688 8.398438 -3.890625 C 8.398438 -6.328125 7.113281 -7.785156 4.957031 -7.785156 C 3.683594 -7.785156 2.730469 -7.28125 2.070312 -6.242188 C 2.113281 -6.609375 2.128906 -6.859375 2.128906 -7.238281 L 2.128906 -9.128906 C 2.128906 -9.800781 2.15625 -10.207031 2.226562 -10.722656 L 0.992188 -10.722656 C 1.0625 -10.179688 1.09375 -9.730469 1.09375 -9.140625 L 1.09375 -1.695312 C 1.09375 -1.023438 1.0625 -0.617188 0.992188 -0.0859375 Z M 7.320312 -3.90625 C 7.320312 -1.988281 6.398438 -0.855469 4.828125 -0.855469 C 3.21875 -0.855469 2.128906 -2.085938 2.128906 -3.890625 C 2.128906 -5.683594 3.21875 -6.886719 4.871094 -6.886719 C 6.425781 -6.886719 7.320312 -5.796875 7.320312 -3.90625 Z M 7.320312 -3.90625 \"/>\n",
       "</symbol>\n",
       "<symbol overflow=\"visible\" id=\"glyph0-13\">\n",
       "<path style=\"stroke:none;\" d=\"M 4.394531 0.0976562 C 6.648438 0.0976562 8.105469 -1.46875 8.105469 -3.863281 C 8.105469 -6.273438 6.664062 -7.8125 4.382812 -7.8125 C 2.101562 -7.8125 0.644531 -6.273438 0.644531 -3.851562 C 0.644531 -1.429688 2.101562 0.0976562 4.394531 0.0976562 Z M 4.410156 -6.929688 C 6.019531 -6.929688 7.027344 -5.753906 7.027344 -3.863281 C 7.027344 -1.972656 6.019531 -0.8125 4.382812 -0.8125 C 2.742188 -0.8125 1.722656 -1.972656 1.722656 -3.878906 C 1.722656 -5.769531 2.742188 -6.929688 4.410156 -6.929688 Z M 4.410156 -6.929688 \"/>\n",
       "</symbol>\n",
       "<symbol overflow=\"visible\" id=\"glyph0-14\">\n",
       "<path style=\"stroke:none;\" d=\"M 0.992188 -10.722656 C 1.0625 -10.21875 1.09375 -9.84375 1.09375 -9.140625 L 1.09375 -1.664062 C 1.09375 -0.992188 1.0625 -0.589844 0.992188 -0.0859375 L 2.238281 -0.0859375 C 2.171875 -0.574219 2.140625 -1.023438 2.140625 -1.652344 L 2.140625 -2.828125 L 3.332031 -3.960938 L 5.195312 -1.414062 C 5.894531 -0.476562 5.921875 -0.421875 6.074219 -0.0859375 L 7.671875 -0.0859375 C 7.363281 -0.390625 7.292969 -0.476562 6.453125 -1.554688 L 4.089844 -4.605469 L 6.035156 -6.410156 C 6.0625 -6.441406 6.132812 -6.523438 6.257812 -6.636719 C 6.453125 -6.832031 6.621094 -6.984375 6.761719 -7.113281 C 7.140625 -7.449219 7.140625 -7.449219 7.335938 -7.628906 L 5.671875 -7.628906 C 5.472656 -7.335938 5.277344 -7.097656 4.675781 -6.523438 L 2.140625 -4.074219 L 2.140625 -9.140625 C 2.140625 -9.855469 2.171875 -10.21875 2.238281 -10.722656 Z M 0.992188 -10.722656 \"/>\n",
       "</symbol>\n",
       "<symbol overflow=\"visible\" id=\"glyph0-15\">\n",
       "<path style=\"stroke:none;\" d=\"M 5.976562 -0.0859375 L 7.113281 -0.0859375 C 7.027344 -0.644531 7 -0.992188 7 -1.625 L 7 -5.558594 C 7 -7.070312 6.046875 -7.855469 4.199219 -7.855469 C 3.148438 -7.855469 2.308594 -7.589844 1.734375 -7.054688 C 1.386719 -6.746094 1.203125 -6.453125 0.953125 -5.808594 L 2.042969 -5.570312 C 2.183594 -5.992188 2.296875 -6.1875 2.476562 -6.382812 C 2.871094 -6.789062 3.445312 -6.984375 4.214844 -6.984375 C 5.375 -6.984375 5.976562 -6.496094 5.976562 -5.542969 L 5.976562 -4.730469 C 4.257812 -4.691406 3.585938 -4.605469 2.757812 -4.367188 C 1.457031 -4.003906 0.757812 -3.191406 0.757812 -2.070312 C 0.757812 -0.742188 1.695312 0.0546875 3.234375 0.0546875 C 3.710938 0.0546875 4.214844 -0.0429688 4.691406 -0.222656 C 5.164062 -0.40625 5.433594 -0.589844 5.976562 -1.078125 Z M 5.976562 -2.996094 C 5.976562 -2.4375 5.867188 -2.140625 5.542969 -1.792969 C 4.996094 -1.191406 4.117188 -0.796875 3.304688 -0.796875 C 2.394531 -0.796875 1.820312 -1.289062 1.820312 -2.058594 C 1.820312 -2.730469 2.171875 -3.207031 2.882812 -3.5 C 3.515625 -3.765625 4.3125 -3.863281 5.976562 -3.90625 Z M 5.976562 -2.996094 \"/>\n",
       "</symbol>\n",
       "<symbol overflow=\"visible\" id=\"glyph0-16\">\n",
       "<path style=\"stroke:none;\" d=\"M 1.875 -9.714844 C 1.945312 -9.253906 1.972656 -8.722656 1.972656 -8.160156 L 1.972656 -7.628906 L 1.414062 -7.628906 C 0.824219 -7.628906 0.546875 -7.644531 0.152344 -7.714844 L 0.152344 -6.648438 C 0.617188 -6.707031 0.9375 -6.734375 1.414062 -6.734375 L 1.972656 -6.734375 L 1.972656 -1.722656 C 1.972656 -1.0625 2.085938 -0.65625 2.367188 -0.378906 C 2.644531 -0.0976562 3.121094 0.0546875 3.738281 0.0546875 C 4.3125 0.0546875 4.746094 -0.0273438 5.320312 -0.265625 L 5.011719 -1.246094 C 4.550781 -0.964844 4.269531 -0.882812 3.90625 -0.882812 C 3.613281 -0.882812 3.375 -0.964844 3.21875 -1.121094 C 3.09375 -1.246094 3.039062 -1.457031 3.039062 -1.863281 L 3.039062 -6.734375 L 3.710938 -6.734375 C 4.339844 -6.734375 4.691406 -6.71875 5.136719 -6.648438 L 5.136719 -7.714844 C 4.648438 -7.644531 4.355469 -7.628906 3.710938 -7.628906 L 3.039062 -7.628906 L 3.039062 -8.160156 C 3.039062 -8.765625 3.066406 -9.269531 3.136719 -9.714844 Z M 1.875 -9.714844 \"/>\n",
       "</symbol>\n",
       "</g>\n",
       "</defs>\n",
       "<g id=\"surface8\">\n",
       "<rect x=\"0\" y=\"0\" width=\"200\" height=\"200\" style=\"fill:rgb(100%,100%,100%);fill-opacity:1;stroke:none;\"/>\n",
       "<path style=\"fill:none;stroke-width:1;stroke-linecap:butt;stroke-linejoin:miter;stroke:rgb(26.666667%,26.666667%,26.666667%);stroke-opacity:1;stroke-miterlimit:10;\" d=\"M 20 175.632812 L 75.59375 173.207031 \"/>\n",
       "<path style=\" stroke:none;fill-rule:nonzero;fill:rgb(26.666667%,26.666667%,26.666667%);fill-opacity:1;\" d=\"M 89.847656 172.585938 L 75.796875 177.835938 L 75.390625 168.574219 L 89.847656 172.585938 \"/>\n",
       "<path style=\"fill:none;stroke-width:1;stroke-linecap:butt;stroke-linejoin:miter;stroke:rgb(26.666667%,26.666667%,26.666667%);stroke-opacity:1;stroke-miterlimit:10;\" d=\"M 99.835938 172.148438 L 131.210938 131.804688 \"/>\n",
       "<path style=\" stroke:none;fill-rule:nonzero;fill:rgb(26.666667%,26.666667%,26.666667%);fill-opacity:1;\" d=\"M 139.96875 120.542969 L 134.871094 134.648438 L 127.554688 128.957031 L 139.96875 120.542969 \"/>\n",
       "<path style=\"fill:none;stroke-width:1;stroke-linecap:butt;stroke-linejoin:miter;stroke:rgb(26.666667%,26.666667%,26.666667%);stroke-opacity:1;stroke-miterlimit:10;\" d=\"M 99.835938 172.148438 L 155.851562 177.632812 \"/>\n",
       "<path style=\" stroke:none;fill-rule:nonzero;fill:rgb(26.666667%,26.666667%,26.666667%);fill-opacity:1;\" d=\"M 170.046875 179.023438 L 155.398438 182.246094 L 156.300781 173.019531 L 170.046875 179.023438 \"/>\n",
       "<path style=\"fill:none;stroke-width:1;stroke-linecap:butt;stroke-linejoin:miter;stroke:rgb(26.666667%,26.666667%,26.666667%);stroke-opacity:1;stroke-miterlimit:10;\" d=\"M 99.835938 172.148438 L 73.175781 123.175781 \"/>\n",
       "<path style=\" stroke:none;fill-rule:nonzero;fill:rgb(26.666667%,26.666667%,26.666667%);fill-opacity:1;\" d=\"M 66.351562 110.644531 L 77.246094 120.957031 L 69.105469 125.390625 L 66.351562 110.644531 \"/>\n",
       "<path style=\"fill:none;stroke-width:1;stroke-linecap:butt;stroke-linejoin:miter;stroke:rgb(26.666667%,26.666667%,26.666667%);stroke-opacity:1;stroke-miterlimit:10;\" d=\"M 35.445312 20 L 54.195312 78.746094 \"/>\n",
       "<path style=\" stroke:none;fill-rule:nonzero;fill:rgb(26.666667%,26.666667%,26.666667%);fill-opacity:1;\" d=\"M 58.53125 92.335938 L 49.777344 80.15625 L 58.609375 77.335938 L 58.53125 92.335938 \"/>\n",
       "<path style=\"fill:none;stroke-width:1;stroke-linecap:butt;stroke-linejoin:miter;stroke:rgb(26.666667%,26.666667%,26.666667%);stroke-opacity:1;stroke-miterlimit:10;\" d=\"M 146.109375 112.648438 L 85.644531 104.933594 \"/>\n",
       "<path style=\" stroke:none;fill-rule:nonzero;fill:rgb(26.666667%,26.666667%,26.666667%);fill-opacity:1;\" d=\"M 71.492188 103.128906 L 86.230469 100.335938 L 85.054688 109.53125 L 71.492188 103.128906 \"/>\n",
       "<path style=\"fill:none;stroke-width:1;stroke-linecap:butt;stroke-linejoin:miter;stroke:rgb(26.666667%,26.666667%,26.666667%);stroke-opacity:1;stroke-miterlimit:10;\" d=\"M 180 180 L 157.015625 134.324219 \"/>\n",
       "<path style=\" stroke:none;fill-rule:nonzero;fill:rgb(26.666667%,26.666667%,26.666667%);fill-opacity:1;\" d=\"M 150.605469 121.582031 L 161.15625 132.242188 L 152.875 136.410156 L 150.605469 121.582031 \"/>\n",
       "<path style=\"fill:none;stroke-width:1;stroke-linecap:butt;stroke-linejoin:miter;stroke:rgb(26.666667%,26.666667%,26.666667%);stroke-opacity:1;stroke-miterlimit:10;\" d=\"M 20 175.632812 L 49.660156 123.003906 \"/>\n",
       "<path style=\" stroke:none;fill-rule:nonzero;fill:rgb(26.666667%,26.666667%,26.666667%);fill-opacity:1;\" d=\"M 56.664062 110.574219 L 53.695312 125.277344 L 45.621094 120.726562 L 56.664062 110.574219 \"/>\n",
       "<path style=\"fill-rule:nonzero;fill:rgb(100%,100%,100%);fill-opacity:1;stroke-width:1;stroke-linecap:butt;stroke-linejoin:miter;stroke:rgb(0%,0%,0%);stroke-opacity:1;stroke-miterlimit:10;\" d=\"M 30 175.632812 C 30 181.152344 25.523438 185.632812 20 185.632812 C 14.476562 185.632812 10 181.152344 10 175.632812 C 10 170.109375 14.476562 165.632812 20 165.632812 C 25.523438 165.632812 30 170.109375 30 175.632812 \"/>\n",
       "<path style=\"fill-rule:nonzero;fill:rgb(100%,100%,100%);fill-opacity:1;stroke-width:1;stroke-linecap:butt;stroke-linejoin:miter;stroke:rgb(0%,0%,0%);stroke-opacity:1;stroke-miterlimit:10;\" d=\"M 109.835938 172.148438 C 109.835938 177.671875 105.359375 182.148438 99.835938 182.148438 C 94.3125 182.148438 89.835938 177.671875 89.835938 172.148438 C 89.835938 166.625 94.3125 162.148438 99.835938 162.148438 C 105.359375 162.148438 109.835938 166.625 109.835938 172.148438 \"/>\n",
       "<path style=\"fill-rule:nonzero;fill:rgb(100%,100%,100%);fill-opacity:1;stroke-width:1;stroke-linecap:butt;stroke-linejoin:miter;stroke:rgb(0%,0%,0%);stroke-opacity:1;stroke-miterlimit:10;\" d=\"M 45.445312 20 C 45.445312 25.523438 40.96875 30 35.445312 30 C 29.921875 30 25.445312 25.523438 25.445312 20 C 25.445312 14.476562 29.921875 10 35.445312 10 C 40.96875 10 45.445312 14.476562 45.445312 20 \"/>\n",
       "<path style=\"fill-rule:nonzero;fill:rgb(100%,100%,100%);fill-opacity:1;stroke-width:1;stroke-linecap:butt;stroke-linejoin:miter;stroke:rgb(0%,0%,0%);stroke-opacity:1;stroke-miterlimit:10;\" d=\"M 156.109375 112.648438 C 156.109375 118.171875 151.632812 122.648438 146.109375 122.648438 C 140.585938 122.648438 136.109375 118.171875 136.109375 112.648438 C 136.109375 107.125 140.585938 102.648438 146.109375 102.648438 C 151.632812 102.648438 156.109375 107.125 156.109375 112.648438 \"/>\n",
       "<path style=\"fill-rule:nonzero;fill:rgb(100%,100%,100%);fill-opacity:1;stroke-width:1;stroke-linecap:butt;stroke-linejoin:miter;stroke:rgb(0%,0%,0%);stroke-opacity:1;stroke-miterlimit:10;\" d=\"M 190 180 C 190 185.523438 185.523438 190 180 190 C 174.476562 190 170 185.523438 170 180 C 170 174.476562 174.476562 170 180 170 C 185.523438 170 190 174.476562 190 180 \"/>\n",
       "<path style=\"fill-rule:nonzero;fill:rgb(100%,100%,100%);fill-opacity:1;stroke-width:1;stroke-linecap:butt;stroke-linejoin:miter;stroke:rgb(0%,0%,0%);stroke-opacity:1;stroke-miterlimit:10;\" d=\"M 71.570312 101.863281 C 71.570312 107.386719 67.09375 111.863281 61.570312 111.863281 C 56.050781 111.863281 51.570312 107.386719 51.570312 101.863281 C 51.570312 96.339844 56.050781 91.863281 61.570312 91.863281 C 67.09375 91.863281 71.570312 96.339844 71.570312 101.863281 \"/>\n",
       "<g style=\"fill:rgb(0%,0%,0%);fill-opacity:1;\">\n",
       "  <use xlink:href=\"#glyph0-1\" x=\"6.539062\" y=\"182.351562\"/>\n",
       "  <use xlink:href=\"#glyph0-2\" x=\"20.539062\" y=\"182.351562\"/>\n",
       "</g>\n",
       "<g style=\"fill:rgb(0%,0%,0%);fill-opacity:1;\">\n",
       "  <use xlink:href=\"#glyph0-3\" x=\"85.085938\" y=\"178.847656\"/>\n",
       "  <use xlink:href=\"#glyph0-4\" x=\"99.085938\" y=\"178.847656\"/>\n",
       "</g>\n",
       "<g style=\"fill:rgb(0%,0%,0%);fill-opacity:1;\">\n",
       "  <use xlink:href=\"#glyph0-5\" x=\"21.390625\" y=\"26.585938\"/>\n",
       "  <use xlink:href=\"#glyph0-2\" x=\"35.390625\" y=\"26.585938\"/>\n",
       "</g>\n",
       "<g style=\"fill:rgb(0%,0%,0%);fill-opacity:1;\">\n",
       "  <use xlink:href=\"#glyph0-6\" x=\"131.90625\" y=\"119.363281\"/>\n",
       "  <use xlink:href=\"#glyph0-7\" x=\"145.90625\" y=\"119.363281\"/>\n",
       "</g>\n",
       "<g style=\"fill:rgb(0%,0%,0%);fill-opacity:1;\">\n",
       "  <use xlink:href=\"#glyph0-8\" x=\"159.0625\" y=\"186.679688\"/>\n",
       "  <use xlink:href=\"#glyph0-9\" x=\"173.0625\" y=\"186.679688\"/>\n",
       "  <use xlink:href=\"#glyph0-10\" x=\"187.0625\" y=\"186.679688\"/>\n",
       "</g>\n",
       "<g style=\"fill:rgb(0%,0%,0%);fill-opacity:1;\">\n",
       "  <use xlink:href=\"#glyph0-11\" x=\"32.390625\" y=\"108.171875\"/>\n",
       "  <use xlink:href=\"#glyph0-12\" x=\"43.520625\" y=\"108.171875\"/>\n",
       "  <use xlink:href=\"#glyph0-13\" x=\"52.564625\" y=\"108.171875\"/>\n",
       "  <use xlink:href=\"#glyph0-14\" x=\"61.314625\" y=\"108.171875\"/>\n",
       "  <use xlink:href=\"#glyph0-15\" x=\"69.364625\" y=\"108.171875\"/>\n",
       "  <use xlink:href=\"#glyph0-16\" x=\"77.414625\" y=\"108.171875\"/>\n",
       "  <use xlink:href=\"#glyph0-15\" x=\"82.902625\" y=\"108.171875\"/>\n",
       "</g>\n",
       "</g>\n",
       "</svg>\n"
      ],
      "text/plain": [
       "<igraph.drawing.Plot at 0x12aca6ac8>"
      ]
     },
     "execution_count": 24,
     "metadata": {},
     "output_type": "execute_result"
    }
   ],
   "source": [
    "import igraph as ig\n",
    "vertices = [\"梅田\", \"白尾\", \"山田\", \"久保\", \"加賀谷\", \"Obokata\"]\n",
    "edges = [(0,1),(1,3),(1,4),(1,5),(2,5),(3,5),(4,3),(0,5)]\n",
    "g = ig.Graph(vertex_attrs={\"label\": vertices}, edges=edges, directed=True)\n",
    "ig.plot(g, vertex_size=20, bbox=(200, 200),vertex_color='white')"
   ]
  },
  {
   "cell_type": "code",
   "execution_count": 25,
   "metadata": {},
   "outputs": [],
   "source": [
    "g = ig.Graph()"
   ]
  },
  {
   "cell_type": "code",
   "execution_count": 26,
   "metadata": {},
   "outputs": [],
   "source": [
    "# ノードを3個追加\n",
    "g.add_vertices(3)"
   ]
  },
  {
   "cell_type": "code",
   "execution_count": 27,
   "metadata": {},
   "outputs": [],
   "source": [
    "# ノードの'name'属性を指定してさらに7個追加\n",
    "g.add_vertices(['0', '1', '2', '3', '4', '7', '8'])"
   ]
  },
  {
   "cell_type": "code",
   "execution_count": 28,
   "metadata": {},
   "outputs": [
    {
     "name": "stdout",
     "output_type": "stream",
     "text": [
      "[None, None, None, '0', '1', '2', '3', '4', '7', '8']\n",
      "[0, 1, 2, 3, 4, 5, 6, 7, 8, 9]\n"
     ]
    }
   ],
   "source": [
    "# ノードリスト\n",
    "print(g.vs['name'])\n",
    "print(g.vs.indices)"
   ]
  },
  {
   "cell_type": "code",
   "execution_count": 30,
   "metadata": {},
   "outputs": [],
   "source": [
    "# ノードリスト（index）\n"
   ]
  },
  {
   "cell_type": "code",
   "execution_count": 31,
   "metadata": {},
   "outputs": [],
   "source": [
    "# エッジの追加\n",
    "g.add_edges([(0, 1), ('0', '1'), ('4', '7'), ('7', '8'), ('7', '8')])"
   ]
  },
  {
   "cell_type": "code",
   "execution_count": 37,
   "metadata": {},
   "outputs": [
    {
     "data": {
      "text/plain": [
       "[(0, 1), (3, 4), (7, 8), (8, 9), (8, 9)]"
      ]
     },
     "execution_count": 37,
     "metadata": {},
     "output_type": "execute_result"
    }
   ],
   "source": [
    "# エッジリスト\n",
    "g.get_edgelist()"
   ]
  },
  {
   "cell_type": "code",
   "execution_count": 33,
   "metadata": {},
   "outputs": [
    {
     "data": {
      "text/plain": [
       "[]"
      ]
     },
     "execution_count": 33,
     "metadata": {},
     "output_type": "execute_result"
    }
   ],
   "source": [
    "g.edge_attributes()"
   ]
  },
  {
   "cell_type": "code",
   "execution_count": null,
   "metadata": {},
   "outputs": [],
   "source": [
    "# エッジの重み\n",
    "g.es['weight']"
   ]
  },
  {
   "cell_type": "code",
   "execution_count": null,
   "metadata": {},
   "outputs": [],
   "source": [
    "# 重みリスト\n",
    "g.es['weight']"
   ]
  },
  {
   "cell_type": "code",
   "execution_count": null,
   "metadata": {},
   "outputs": [],
   "source": [
    "# エッジのid（追加した順番にidが付く）\n",
    "g.get_eid(4, 2)"
   ]
  },
  {
   "cell_type": "code",
   "execution_count": 38,
   "metadata": {},
   "outputs": [],
   "source": [
    "# ノードを削除\n",
    "g.delete_vertices(1)"
   ]
  },
  {
   "cell_type": "code",
   "execution_count": 39,
   "metadata": {},
   "outputs": [],
   "source": [
    "# idで指定してエッジを削除\n",
    "g.delete_edges(0)"
   ]
  },
  {
   "cell_type": "code",
   "execution_count": 40,
   "metadata": {},
   "outputs": [
    {
     "data": {
      "image/svg+xml": [
       "<?xml version=\"1.0\" encoding=\"UTF-8\"?>\n",
       "<svg xmlns=\"http://www.w3.org/2000/svg\" xmlns:xlink=\"http://www.w3.org/1999/xlink\" width=\"200pt\" height=\"200pt\" viewBox=\"0 0 200 200\" version=\"1.1\">\n",
       "<g id=\"surface14\">\n",
       "<rect x=\"0\" y=\"0\" width=\"200\" height=\"200\" style=\"fill:rgb(100%,100%,100%);fill-opacity:1;stroke:none;\"/>\n",
       "<path style=\"fill:none;stroke-width:1;stroke-linecap:butt;stroke-linejoin:miter;stroke:rgb(26.666667%,26.666667%,26.666667%);stroke-opacity:1;stroke-miterlimit:10;\" d=\"M 117.007812 96.855469 L 152.488281 78.226562 \"/>\n",
       "<path style=\"fill:none;stroke-width:1;stroke-linecap:butt;stroke-linejoin:miter;stroke:rgb(26.666667%,26.666667%,26.666667%);stroke-opacity:1;stroke-miterlimit:10;\" d=\"M 152.488281 78.226562 C 165.433594 80.070312 174.605469 75.039062 180 63.128906 \"/>\n",
       "<path style=\"fill:none;stroke-width:1;stroke-linecap:butt;stroke-linejoin:miter;stroke:rgb(26.666667%,26.666667%,26.666667%);stroke-opacity:1;stroke-miterlimit:10;\" d=\"M 152.488281 78.226562 C 157.886719 66.316406 167.054688 61.285156 180 63.128906 \"/>\n",
       "<path style=\"fill-rule:nonzero;fill:rgb(100%,0%,0%);fill-opacity:1;stroke-width:1;stroke-linecap:butt;stroke-linejoin:miter;stroke:rgb(0%,0%,0%);stroke-opacity:1;stroke-miterlimit:10;\" d=\"M 99.574219 20 C 99.574219 23.332031 94.574219 23.332031 94.574219 20 C 94.574219 16.667969 99.574219 16.667969 99.574219 20 \"/>\n",
       "<path style=\"fill-rule:nonzero;fill:rgb(100%,0%,0%);fill-opacity:1;stroke-width:1;stroke-linecap:butt;stroke-linejoin:miter;stroke:rgb(0%,0%,0%);stroke-opacity:1;stroke-miterlimit:10;\" d=\"M 39.019531 54.550781 C 39.019531 57.886719 34.019531 57.886719 34.019531 54.550781 C 34.019531 51.21875 39.019531 51.21875 39.019531 54.550781 \"/>\n",
       "<path style=\"fill-rule:nonzero;fill:rgb(100%,0%,0%);fill-opacity:1;stroke-width:1;stroke-linecap:butt;stroke-linejoin:miter;stroke:rgb(0%,0%,0%);stroke-opacity:1;stroke-miterlimit:10;\" d=\"M 22.5 112.140625 C 22.5 115.476562 17.5 115.476562 17.5 112.140625 C 17.5 108.808594 22.5 108.808594 22.5 112.140625 \"/>\n",
       "<path style=\"fill-rule:nonzero;fill:rgb(100%,0%,0%);fill-opacity:1;stroke-width:1;stroke-linecap:butt;stroke-linejoin:miter;stroke:rgb(0%,0%,0%);stroke-opacity:1;stroke-miterlimit:10;\" d=\"M 54.511719 163.066406 C 54.511719 166.398438 49.511719 166.398438 49.511719 163.066406 C 49.511719 159.730469 54.511719 159.730469 54.511719 163.066406 \"/>\n",
       "<path style=\"fill-rule:nonzero;fill:rgb(100%,0%,0%);fill-opacity:1;stroke-width:1;stroke-linecap:butt;stroke-linejoin:miter;stroke:rgb(0%,0%,0%);stroke-opacity:1;stroke-miterlimit:10;\" d=\"M 182.3125 150.515625 C 182.3125 153.847656 177.3125 153.847656 177.3125 150.515625 C 177.3125 147.183594 182.3125 147.183594 182.3125 150.515625 \"/>\n",
       "<path style=\"fill-rule:nonzero;fill:rgb(100%,0%,0%);fill-opacity:1;stroke-width:1;stroke-linecap:butt;stroke-linejoin:miter;stroke:rgb(0%,0%,0%);stroke-opacity:1;stroke-miterlimit:10;\" d=\"M 117.949219 180 C 117.949219 183.332031 112.949219 183.332031 112.949219 180 C 112.949219 176.667969 117.949219 176.667969 117.949219 180 \"/>\n",
       "<path style=\"fill-rule:nonzero;fill:rgb(100%,0%,0%);fill-opacity:1;stroke-width:1;stroke-linecap:butt;stroke-linejoin:miter;stroke:rgb(0%,0%,0%);stroke-opacity:1;stroke-miterlimit:10;\" d=\"M 119.507812 96.855469 C 119.507812 100.1875 114.507812 100.1875 114.507812 96.855469 C 114.507812 93.519531 119.507812 93.519531 119.507812 96.855469 \"/>\n",
       "<path style=\"fill-rule:nonzero;fill:rgb(100%,0%,0%);fill-opacity:1;stroke-width:1;stroke-linecap:butt;stroke-linejoin:miter;stroke:rgb(0%,0%,0%);stroke-opacity:1;stroke-miterlimit:10;\" d=\"M 154.988281 78.226562 C 154.988281 81.558594 149.988281 81.558594 149.988281 78.226562 C 149.988281 74.894531 154.988281 74.894531 154.988281 78.226562 \"/>\n",
       "<path style=\"fill-rule:nonzero;fill:rgb(100%,0%,0%);fill-opacity:1;stroke-width:1;stroke-linecap:butt;stroke-linejoin:miter;stroke:rgb(0%,0%,0%);stroke-opacity:1;stroke-miterlimit:10;\" d=\"M 182.5 63.128906 C 182.5 66.460938 177.5 66.460938 177.5 63.128906 C 177.5 59.792969 182.5 59.792969 182.5 63.128906 \"/>\n",
       "</g>\n",
       "</svg>\n"
      ],
      "text/plain": [
       "<igraph.drawing.Plot at 0x12aca6b00>"
      ]
     },
     "execution_count": 40,
     "metadata": {},
     "output_type": "execute_result"
    }
   ],
   "source": [
    "ig.plot(g, vertex_size=5, bbox=(200, 200))"
   ]
  },
  {
   "cell_type": "code",
   "execution_count": 41,
   "metadata": {},
   "outputs": [],
   "source": [
    "g2 = ig.Graph.Tree(127, 2)"
   ]
  },
  {
   "cell_type": "markdown",
   "metadata": {},
   "source": [
    "### gmlファイルから読み込み"
   ]
  },
  {
   "cell_type": "code",
   "execution_count": 42,
   "metadata": {},
   "outputs": [
    {
     "data": {
      "image/svg+xml": [
       "<?xml version=\"1.0\" encoding=\"UTF-8\"?>\n",
       "<svg xmlns=\"http://www.w3.org/2000/svg\" xmlns:xlink=\"http://www.w3.org/1999/xlink\" width=\"200pt\" height=\"200pt\" viewBox=\"0 0 200 200\" version=\"1.1\">\n",
       "<defs>\n",
       "<g>\n",
       "<symbol overflow=\"visible\" id=\"glyph0-0\">\n",
       "<path style=\"stroke:none;\" d=\"\"/>\n",
       "</symbol>\n",
       "<symbol overflow=\"visible\" id=\"glyph0-1\">\n",
       "<path style=\"stroke:none;\" d=\"M 4.59375 0.125 C 5.878906 0.125 6.859375 -0.363281 7.558594 -1.34375 C 8.175781 -2.199219 8.539062 -3.695312 8.539062 -5.390625 C 8.539062 -6.550781 8.359375 -7.671875 8.007812 -8.636719 C 7.839844 -9.101562 7.558594 -9.535156 7.167969 -9.925781 C 6.539062 -10.585938 5.640625 -10.921875 4.605469 -10.921875 C 3.21875 -10.921875 2.140625 -10.332031 1.46875 -9.199219 C 0.980469 -8.386719 0.65625 -6.875 0.65625 -5.390625 C 0.65625 -4.242188 0.839844 -3.136719 1.191406 -2.15625 C 1.359375 -1.679688 1.652344 -1.246094 2.03125 -0.867188 C 2.6875 -0.210938 3.554688 0.125 4.59375 0.125 Z M 4.59375 -9.953125 C 5.570312 -9.953125 6.328125 -9.519531 6.789062 -8.679688 C 7.152344 -8.023438 7.421875 -6.636719 7.421875 -5.417969 C 7.421875 -4.382812 7.28125 -3.457031 6.984375 -2.589844 C 6.859375 -2.183594 6.636719 -1.820312 6.328125 -1.496094 C 5.90625 -1.0625 5.304688 -0.839844 4.605469 -0.839844 C 3.652344 -0.839844 2.925781 -1.246094 2.4375 -2.058594 C 2.058594 -2.714844 1.777344 -4.089844 1.777344 -5.390625 C 1.777344 -6.410156 1.917969 -7.363281 2.210938 -8.21875 C 2.324219 -8.566406 2.546875 -8.917969 2.84375 -9.238281 C 3.289062 -9.714844 3.863281 -9.953125 4.59375 -9.953125 Z M 4.59375 -9.953125 \"/>\n",
       "</symbol>\n",
       "<symbol overflow=\"visible\" id=\"glyph0-2\">\n",
       "<path style=\"stroke:none;\" d=\"M 2.253906 -9.6875 C 2.660156 -9.742188 3.023438 -9.773438 3.472656 -9.773438 L 4.226562 -9.773438 L 4.226562 -1.664062 C 4.226562 -1.023438 4.199219 -0.574219 4.117188 -0.0859375 L 5.445312 -0.0859375 C 5.363281 -0.601562 5.335938 -1.007812 5.335938 -1.664062 L 5.335938 -8.46875 C 5.335938 -9.226562 5.375 -9.941406 5.460938 -10.792969 C 4.996094 -10.738281 4.773438 -10.722656 4.296875 -10.722656 L 3.414062 -10.722656 C 2.882812 -10.722656 2.617188 -10.738281 2.253906 -10.792969 Z M 2.253906 -9.6875 \"/>\n",
       "</symbol>\n",
       "<symbol overflow=\"visible\" id=\"glyph0-3\">\n",
       "<path style=\"stroke:none;\" d=\"M 6.621094 -0.0859375 C 7.320312 -0.0859375 7.785156 -0.0546875 8.34375 0 L 8.34375 -1.175781 C 7.8125 -1.105469 7.335938 -1.078125 6.636719 -1.078125 L 2.171875 -1.078125 C 2.339844 -1.75 2.535156 -2.128906 2.96875 -2.703125 C 3.429688 -3.289062 3.878906 -3.683594 4.984375 -4.425781 C 6.578125 -5.488281 6.945312 -5.753906 7.363281 -6.230469 C 7.910156 -6.832031 8.191406 -7.503906 8.191406 -8.21875 C 8.191406 -9.871094 6.832031 -10.933594 4.71875 -10.933594 C 3.484375 -10.933594 2.535156 -10.570312 1.902344 -9.855469 C 1.441406 -9.339844 1.230469 -8.847656 1.023438 -7.839844 L 2.199219 -7.644531 C 2.296875 -8.34375 2.421875 -8.679688 2.6875 -9.058594 C 3.109375 -9.660156 3.792969 -9.96875 4.71875 -9.96875 C 6.144531 -9.96875 7.042969 -9.28125 7.042969 -8.21875 C 7.042969 -7.363281 6.578125 -6.746094 5.195312 -5.808594 C 3.570312 -4.703125 3.542969 -4.691406 3.050781 -4.269531 C 2.171875 -3.515625 1.582031 -2.742188 1.230469 -1.863281 C 1.023438 -1.328125 0.980469 -1.121094 0.824219 -0.015625 C 1.273438 -0.0703125 1.484375 -0.0859375 2.367188 -0.0859375 Z M 6.621094 -0.0859375 \"/>\n",
       "</symbol>\n",
       "<symbol overflow=\"visible\" id=\"glyph0-4\">\n",
       "<path style=\"stroke:none;\" d=\"M 0.628906 -2.378906 C 0.882812 -1.664062 1.050781 -1.359375 1.34375 -1.023438 C 2.015625 -0.265625 3.066406 0.125 4.480469 0.125 C 6.816406 0.125 8.273438 -1.050781 8.273438 -2.941406 C 8.273438 -3.835938 7.953125 -4.578125 7.335938 -5.054688 C 6.859375 -5.417969 6.425781 -5.570312 5.613281 -5.65625 C 6.257812 -5.78125 6.566406 -5.894531 6.929688 -6.160156 C 7.546875 -6.59375 7.910156 -7.351562 7.910156 -8.203125 C 7.910156 -9.882812 6.621094 -10.949219 4.59375 -10.949219 C 3.375 -10.949219 2.421875 -10.597656 1.804688 -9.925781 C 1.457031 -9.5625 1.289062 -9.238281 1.050781 -8.527344 L 2.210938 -8.273438 C 2.367188 -8.792969 2.464844 -9.015625 2.660156 -9.269531 C 3.050781 -9.773438 3.667969 -10.011719 4.523438 -10.011719 C 5.9375 -10.011719 6.777344 -9.308594 6.777344 -8.105469 C 6.777344 -7.601562 6.566406 -7.085938 6.214844 -6.746094 C 5.78125 -6.3125 5.097656 -6.105469 4.171875 -6.105469 C 3.792969 -6.105469 3.457031 -6.132812 3.136719 -6.1875 L 3.136719 -5.082031 C 3.515625 -5.125 3.863281 -5.152344 4.257812 -5.152344 C 6.117188 -5.152344 7.113281 -4.394531 7.113281 -3.011719 C 7.113281 -1.679688 6.089844 -0.839844 4.464844 -0.839844 C 3.753906 -0.839844 3.136719 -1.007812 2.660156 -1.34375 C 2.226562 -1.652344 2.03125 -1.945312 1.804688 -2.675781 Z M 0.628906 -2.378906 \"/>\n",
       "</symbol>\n",
       "<symbol overflow=\"visible\" id=\"glyph0-5\">\n",
       "<path style=\"stroke:none;\" d=\"M 0.433594 -2.742188 C 0.894531 -2.785156 1.316406 -2.800781 2.101562 -2.800781 L 5.851562 -2.800781 L 5.851562 -1.597656 C 5.851562 -0.964844 5.824219 -0.574219 5.738281 -0.0859375 L 7.015625 -0.0859375 C 6.929688 -0.601562 6.902344 -0.925781 6.902344 -1.597656 L 6.902344 -2.800781 L 7.421875 -2.800781 C 8.023438 -2.800781 8.371094 -2.773438 8.890625 -2.703125 L 8.890625 -3.863281 C 8.386719 -3.792969 8.023438 -3.765625 7.433594 -3.765625 L 6.902344 -3.765625 L 6.902344 -8.359375 C 6.902344 -9.464844 6.914062 -9.898438 6.984375 -10.722656 L 5.9375 -10.722656 C 5.613281 -10.234375 5.363281 -9.882812 4.886719 -9.296875 L 1.34375 -4.871094 C 1.050781 -4.523438 0.726562 -4.128906 0.433594 -3.792969 Z M 5.867188 -3.753906 L 1.679688 -3.753906 L 4.898438 -7.8125 C 5.304688 -8.328125 5.65625 -8.792969 5.949219 -9.210938 C 5.878906 -8.496094 5.867188 -8.050781 5.867188 -7.308594 Z M 5.867188 -3.753906 \"/>\n",
       "</symbol>\n",
       "<symbol overflow=\"visible\" id=\"glyph0-6\">\n",
       "<path style=\"stroke:none;\" d=\"M 2.757812 -9.757812 L 6.046875 -9.757812 C 6.707031 -9.757812 7.152344 -9.730469 7.6875 -9.644531 L 7.6875 -10.835938 C 7.125 -10.753906 6.804688 -10.722656 6.046875 -10.722656 L 3.164062 -10.722656 C 2.339844 -10.722656 2.113281 -10.738281 1.679688 -10.792969 C 1.707031 -10.445312 1.707031 -10.386719 1.707031 -10.191406 C 1.707031 -9.925781 1.695312 -9.757812 1.664062 -9.351562 L 1.359375 -6.1875 C 1.300781 -5.585938 1.261719 -5.292969 1.148438 -4.746094 L 2.199219 -4.648438 C 2.351562 -5.027344 2.507812 -5.222656 2.84375 -5.488281 C 3.347656 -5.878906 3.960938 -6.074219 4.675781 -6.074219 C 6.160156 -6.074219 7.125 -5.066406 7.125 -3.527344 C 7.125 -1.917969 6.074219 -0.855469 4.507812 -0.855469 C 3.695312 -0.855469 2.996094 -1.148438 2.519531 -1.679688 C 2.308594 -1.917969 2.210938 -2.101562 2.070312 -2.492188 L 0.925781 -2.15625 C 1.261719 -1.484375 1.457031 -1.191406 1.804688 -0.839844 C 2.476562 -0.210938 3.386719 0.113281 4.480469 0.113281 C 6.789062 0.113281 8.261719 -1.328125 8.261719 -3.585938 C 8.261719 -4.621094 7.953125 -5.445312 7.320312 -6.046875 C 6.691406 -6.664062 5.824219 -7 4.800781 -7 C 3.835938 -7 3.023438 -6.679688 2.351562 -6.035156 C 2.4375 -6.410156 2.4375 -6.410156 2.464844 -6.664062 Z M 2.757812 -9.757812 \"/>\n",
       "</symbol>\n",
       "<symbol overflow=\"visible\" id=\"glyph0-7\">\n",
       "<path style=\"stroke:none;\" d=\"M 8.148438 -8.765625 C 7.742188 -9.605469 7.460938 -9.980469 6.972656 -10.332031 C 6.441406 -10.710938 5.683594 -10.921875 4.84375 -10.921875 C 3.625 -10.921875 2.632812 -10.402344 1.890625 -9.394531 C 1.21875 -8.484375 0.824219 -6.914062 0.824219 -5.164062 C 0.824219 -3.179688 1.328125 -1.609375 2.238281 -0.769531 C 2.84375 -0.210938 3.78125 0.113281 4.773438 0.113281 C 6.984375 0.113281 8.441406 -1.316406 8.441406 -3.484375 C 8.441406 -5.640625 7.097656 -6.984375 4.929688 -6.984375 C 3.960938 -6.984375 3.21875 -6.71875 2.5625 -6.132812 C 2.253906 -5.867188 2.113281 -5.671875 1.863281 -5.234375 C 1.960938 -6.761719 2.085938 -7.40625 2.449219 -8.246094 C 2.953125 -9.394531 3.78125 -9.980469 4.871094 -9.980469 C 5.570312 -9.980469 6.117188 -9.742188 6.539062 -9.28125 C 6.746094 -9.042969 6.847656 -8.847656 7.027344 -8.398438 Z M 7.335938 -3.457031 C 7.335938 -2.910156 7.195312 -2.339844 6.972656 -1.972656 C 6.539062 -1.273438 5.699219 -0.839844 4.789062 -0.839844 C 3.277344 -0.839844 2.140625 -1.960938 2.140625 -3.472656 C 2.140625 -4.171875 2.378906 -4.789062 2.84375 -5.25 C 3.332031 -5.738281 4.074219 -6.046875 4.773438 -6.046875 C 6.410156 -6.046875 7.335938 -5.109375 7.335938 -3.457031 Z M 7.335938 -3.457031 \"/>\n",
       "</symbol>\n",
       "<symbol overflow=\"visible\" id=\"glyph0-8\">\n",
       "<path style=\"stroke:none;\" d=\"M 8.289062 -10.792969 C 7.796875 -10.738281 7.488281 -10.722656 6.664062 -10.722656 L 2.464844 -10.722656 C 1.792969 -10.722656 1.414062 -10.753906 0.867188 -10.820312 L 0.867188 -9.632812 C 1.398438 -9.703125 1.792969 -9.730469 2.449219 -9.730469 L 7 -9.730469 C 5.753906 -8.035156 5.152344 -7.070312 4.480469 -5.671875 C 3.613281 -3.878906 3.234375 -2.617188 2.785156 -0.0859375 L 4.117188 -0.0859375 C 4.339844 -1.707031 4.492188 -2.421875 4.859375 -3.585938 C 5.402344 -5.292969 5.992188 -6.480469 7.253906 -8.429688 C 7.796875 -9.269531 8.035156 -9.574219 8.289062 -9.773438 Z M 8.289062 -10.792969 \"/>\n",
       "</symbol>\n",
       "<symbol overflow=\"visible\" id=\"glyph0-9\">\n",
       "<path style=\"stroke:none;\" d=\"M 6.019531 -5.65625 C 7.265625 -5.894531 8.050781 -6.875 8.050781 -8.175781 C 8.050781 -9.898438 6.734375 -10.949219 4.59375 -10.949219 C 2.476562 -10.949219 1.148438 -9.871094 1.148438 -8.175781 C 1.148438 -6.875 1.945312 -5.878906 3.179688 -5.65625 C 2.660156 -5.570312 2.351562 -5.460938 1.917969 -5.179688 C 1.078125 -4.632812 0.671875 -3.863281 0.671875 -2.855469 C 0.671875 -0.925781 2.085938 0.140625 4.648438 0.140625 C 7.113281 0.140625 8.511719 -0.9375 8.511719 -2.855469 C 8.511719 -3.792969 8.160156 -4.535156 7.460938 -5.054688 C 7 -5.402344 6.609375 -5.570312 6.019531 -5.65625 Z M 4.59375 -10.011719 C 6.035156 -10.011719 6.957031 -9.269531 6.957031 -8.09375 C 6.957031 -6.847656 6.074219 -6.089844 4.605469 -6.089844 C 3.136719 -6.089844 2.238281 -6.847656 2.238281 -8.09375 C 2.238281 -9.253906 3.164062 -10.011719 4.59375 -10.011719 Z M 4.59375 -5.125 C 6.3125 -5.125 7.363281 -4.296875 7.363281 -2.925781 C 7.363281 -2.351562 7.183594 -1.863281 6.832031 -1.539062 C 6.355469 -1.0625 5.558594 -0.8125 4.578125 -0.8125 C 2.84375 -0.8125 1.820312 -1.597656 1.820312 -2.925781 C 1.820312 -4.285156 2.871094 -5.125 4.59375 -5.125 Z M 4.59375 -5.125 \"/>\n",
       "</symbol>\n",
       "<symbol overflow=\"visible\" id=\"glyph0-10\">\n",
       "<path style=\"stroke:none;\" d=\"M 0.910156 -2.042969 C 1.273438 -1.300781 1.496094 -0.980469 1.890625 -0.65625 C 2.492188 -0.152344 3.277344 0.0976562 4.242188 0.0976562 C 5.53125 0.0976562 6.453125 -0.320312 7.152344 -1.203125 C 7.910156 -2.140625 8.316406 -3.722656 8.316406 -5.671875 C 8.316406 -6.875 8.191406 -7.824219 7.910156 -8.582031 C 7.378906 -10.039062 6.089844 -10.933594 4.523438 -10.933594 C 2.226562 -10.933594 0.726562 -9.476562 0.726562 -7.253906 C 0.726562 -6.257812 1.078125 -5.335938 1.679688 -4.730469 C 2.28125 -4.128906 3.164062 -3.808594 4.199219 -3.808594 C 5.25 -3.808594 6.035156 -4.117188 6.746094 -4.789062 C 7 -5.054688 7.113281 -5.195312 7.308594 -5.570312 C 7.28125 -4.859375 7.238281 -4.285156 7.183594 -3.933594 C 7.070312 -3.277344 6.847656 -2.589844 6.578125 -2.140625 C 6.0625 -1.261719 5.335938 -0.855469 4.324219 -0.855469 C 3.554688 -0.855469 2.953125 -1.078125 2.5625 -1.511719 C 2.339844 -1.75 2.226562 -1.945312 2.058594 -2.40625 Z M 4.324219 -4.746094 C 2.800781 -4.746094 1.835938 -5.738281 1.835938 -7.320312 C 1.835938 -7.867188 1.972656 -8.429688 2.199219 -8.792969 C 2.660156 -9.535156 3.5 -9.980469 4.425781 -9.980469 C 5.921875 -9.980469 7.042969 -8.847656 7.042969 -7.335938 C 7.042969 -5.851562 5.878906 -4.746094 4.324219 -4.746094 Z M 4.324219 -4.746094 \"/>\n",
       "</symbol>\n",
       "</g>\n",
       "</defs>\n",
       "<g id=\"surface20\">\n",
       "<rect x=\"0\" y=\"0\" width=\"200\" height=\"200\" style=\"fill:rgb(100%,100%,100%);fill-opacity:1;stroke:none;\"/>\n",
       "<path style=\"fill:none;stroke-width:1;stroke-linecap:butt;stroke-linejoin:miter;stroke:rgb(26.666667%,26.666667%,26.666667%);stroke-opacity:1;stroke-miterlimit:10;\" d=\"M 77.253906 122.535156 L 68.445312 86.410156 \"/>\n",
       "<path style=\"fill:none;stroke-width:1;stroke-linecap:butt;stroke-linejoin:miter;stroke:rgb(26.666667%,26.666667%,26.666667%);stroke-opacity:1;stroke-miterlimit:10;\" d=\"M 77.253906 122.535156 L 108.425781 100.546875 \"/>\n",
       "<path style=\"fill:none;stroke-width:1;stroke-linecap:butt;stroke-linejoin:miter;stroke:rgb(26.666667%,26.666667%,26.666667%);stroke-opacity:1;stroke-miterlimit:10;\" d=\"M 77.253906 122.535156 L 94.472656 128.828125 \"/>\n",
       "<path style=\"fill:none;stroke-width:1;stroke-linecap:butt;stroke-linejoin:miter;stroke:rgb(26.666667%,26.666667%,26.666667%);stroke-opacity:1;stroke-miterlimit:10;\" d=\"M 77.253906 122.535156 L 64.996094 158.625 \"/>\n",
       "<path style=\"fill:none;stroke-width:1;stroke-linecap:butt;stroke-linejoin:miter;stroke:rgb(26.666667%,26.666667%,26.666667%);stroke-opacity:1;stroke-miterlimit:10;\" d=\"M 77.253906 122.535156 L 52.832031 160.820312 \"/>\n",
       "<path style=\"fill:none;stroke-width:1;stroke-linecap:butt;stroke-linejoin:miter;stroke:rgb(26.666667%,26.666667%,26.666667%);stroke-opacity:1;stroke-miterlimit:10;\" d=\"M 77.253906 122.535156 L 40.125 144.925781 \"/>\n",
       "<path style=\"fill:none;stroke-width:1;stroke-linecap:butt;stroke-linejoin:miter;stroke:rgb(26.666667%,26.666667%,26.666667%);stroke-opacity:1;stroke-miterlimit:10;\" d=\"M 77.253906 122.535156 L 69.136719 106.046875 \"/>\n",
       "<path style=\"fill:none;stroke-width:1;stroke-linecap:butt;stroke-linejoin:miter;stroke:rgb(26.666667%,26.666667%,26.666667%);stroke-opacity:1;stroke-miterlimit:10;\" d=\"M 77.253906 122.535156 L 100.636719 79.269531 \"/>\n",
       "<path style=\"fill:none;stroke-width:1;stroke-linecap:butt;stroke-linejoin:miter;stroke:rgb(26.666667%,26.666667%,26.666667%);stroke-opacity:1;stroke-miterlimit:10;\" d=\"M 77.253906 122.535156 L 41.859375 131.09375 \"/>\n",
       "<path style=\"fill:none;stroke-width:1;stroke-linecap:butt;stroke-linejoin:miter;stroke:rgb(26.666667%,26.666667%,26.666667%);stroke-opacity:1;stroke-miterlimit:10;\" d=\"M 77.253906 122.535156 L 98.328125 170.015625 \"/>\n",
       "<path style=\"fill:none;stroke-width:1;stroke-linecap:butt;stroke-linejoin:miter;stroke:rgb(26.666667%,26.666667%,26.666667%);stroke-opacity:1;stroke-miterlimit:10;\" d=\"M 77.253906 122.535156 L 85.960938 165.34375 \"/>\n",
       "<path style=\"fill:none;stroke-width:1;stroke-linecap:butt;stroke-linejoin:miter;stroke:rgb(26.666667%,26.666667%,26.666667%);stroke-opacity:1;stroke-miterlimit:10;\" d=\"M 77.253906 122.535156 L 96.328125 94.035156 \"/>\n",
       "<path style=\"fill:none;stroke-width:1;stroke-linecap:butt;stroke-linejoin:miter;stroke:rgb(26.666667%,26.666667%,26.666667%);stroke-opacity:1;stroke-miterlimit:10;\" d=\"M 77.253906 122.535156 L 39.320312 86.183594 \"/>\n",
       "<path style=\"fill:none;stroke-width:1;stroke-linecap:butt;stroke-linejoin:miter;stroke:rgb(26.666667%,26.666667%,26.666667%);stroke-opacity:1;stroke-miterlimit:10;\" d=\"M 77.253906 122.535156 L 87.316406 73.953125 \"/>\n",
       "<path style=\"fill:none;stroke-width:1;stroke-linecap:butt;stroke-linejoin:miter;stroke:rgb(26.666667%,26.666667%,26.666667%);stroke-opacity:1;stroke-miterlimit:10;\" d=\"M 77.253906 122.535156 L 37.453125 102.277344 \"/>\n",
       "<path style=\"fill:none;stroke-width:1;stroke-linecap:butt;stroke-linejoin:miter;stroke:rgb(26.666667%,26.666667%,26.666667%);stroke-opacity:1;stroke-miterlimit:10;\" d=\"M 77.253906 122.535156 L 124.402344 115.550781 \"/>\n",
       "<path style=\"fill:none;stroke-width:1;stroke-linecap:butt;stroke-linejoin:miter;stroke:rgb(26.666667%,26.666667%,26.666667%);stroke-opacity:1;stroke-miterlimit:10;\" d=\"M 68.445312 86.410156 L 108.425781 100.546875 \"/>\n",
       "<path style=\"fill:none;stroke-width:1;stroke-linecap:butt;stroke-linejoin:miter;stroke:rgb(26.666667%,26.666667%,26.666667%);stroke-opacity:1;stroke-miterlimit:10;\" d=\"M 68.445312 86.410156 L 94.472656 128.828125 \"/>\n",
       "<path style=\"fill:none;stroke-width:1;stroke-linecap:butt;stroke-linejoin:miter;stroke:rgb(26.666667%,26.666667%,26.666667%);stroke-opacity:1;stroke-miterlimit:10;\" d=\"M 68.445312 86.410156 L 69.136719 106.046875 \"/>\n",
       "<path style=\"fill:none;stroke-width:1;stroke-linecap:butt;stroke-linejoin:miter;stroke:rgb(26.666667%,26.666667%,26.666667%);stroke-opacity:1;stroke-miterlimit:10;\" d=\"M 68.445312 86.410156 L 96.328125 94.035156 \"/>\n",
       "<path style=\"fill:none;stroke-width:1;stroke-linecap:butt;stroke-linejoin:miter;stroke:rgb(26.666667%,26.666667%,26.666667%);stroke-opacity:1;stroke-miterlimit:10;\" d=\"M 68.445312 86.410156 L 39.320312 86.183594 \"/>\n",
       "<path style=\"fill:none;stroke-width:1;stroke-linecap:butt;stroke-linejoin:miter;stroke:rgb(26.666667%,26.666667%,26.666667%);stroke-opacity:1;stroke-miterlimit:10;\" d=\"M 68.445312 86.410156 L 87.316406 73.953125 \"/>\n",
       "<path style=\"fill:none;stroke-width:1;stroke-linecap:butt;stroke-linejoin:miter;stroke:rgb(26.666667%,26.666667%,26.666667%);stroke-opacity:1;stroke-miterlimit:10;\" d=\"M 68.445312 86.410156 L 37.453125 102.277344 \"/>\n",
       "<path style=\"fill:none;stroke-width:1;stroke-linecap:butt;stroke-linejoin:miter;stroke:rgb(26.666667%,26.666667%,26.666667%);stroke-opacity:1;stroke-miterlimit:10;\" d=\"M 68.445312 86.410156 L 91.96875 48.359375 \"/>\n",
       "<path style=\"fill:none;stroke-width:1;stroke-linecap:butt;stroke-linejoin:miter;stroke:rgb(26.666667%,26.666667%,26.666667%);stroke-opacity:1;stroke-miterlimit:10;\" d=\"M 108.425781 100.546875 L 94.472656 128.828125 \"/>\n",
       "<path style=\"fill:none;stroke-width:1;stroke-linecap:butt;stroke-linejoin:miter;stroke:rgb(26.666667%,26.666667%,26.666667%);stroke-opacity:1;stroke-miterlimit:10;\" d=\"M 108.425781 100.546875 L 69.136719 106.046875 \"/>\n",
       "<path style=\"fill:none;stroke-width:1;stroke-linecap:butt;stroke-linejoin:miter;stroke:rgb(26.666667%,26.666667%,26.666667%);stroke-opacity:1;stroke-miterlimit:10;\" d=\"M 108.425781 100.546875 L 100.636719 79.269531 \"/>\n",
       "<path style=\"fill:none;stroke-width:1;stroke-linecap:butt;stroke-linejoin:miter;stroke:rgb(26.666667%,26.666667%,26.666667%);stroke-opacity:1;stroke-miterlimit:10;\" d=\"M 108.425781 100.546875 L 105.535156 48.75 \"/>\n",
       "<path style=\"fill:none;stroke-width:1;stroke-linecap:butt;stroke-linejoin:miter;stroke:rgb(26.666667%,26.666667%,26.666667%);stroke-opacity:1;stroke-miterlimit:10;\" d=\"M 108.425781 100.546875 L 96.328125 94.035156 \"/>\n",
       "<path style=\"fill:none;stroke-width:1;stroke-linecap:butt;stroke-linejoin:miter;stroke:rgb(26.666667%,26.666667%,26.666667%);stroke-opacity:1;stroke-miterlimit:10;\" d=\"M 108.425781 100.546875 L 145.179688 111.527344 \"/>\n",
       "<path style=\"fill:none;stroke-width:1;stroke-linecap:butt;stroke-linejoin:miter;stroke:rgb(26.666667%,26.666667%,26.666667%);stroke-opacity:1;stroke-miterlimit:10;\" d=\"M 108.425781 100.546875 L 141.867188 96.996094 \"/>\n",
       "<path style=\"fill:none;stroke-width:1;stroke-linecap:butt;stroke-linejoin:miter;stroke:rgb(26.666667%,26.666667%,26.666667%);stroke-opacity:1;stroke-miterlimit:10;\" d=\"M 108.425781 100.546875 L 130.425781 60.171875 \"/>\n",
       "<path style=\"fill:none;stroke-width:1;stroke-linecap:butt;stroke-linejoin:miter;stroke:rgb(26.666667%,26.666667%,26.666667%);stroke-opacity:1;stroke-miterlimit:10;\" d=\"M 94.472656 128.828125 L 69.136719 106.046875 \"/>\n",
       "<path style=\"fill:none;stroke-width:1;stroke-linecap:butt;stroke-linejoin:miter;stroke:rgb(26.666667%,26.666667%,26.666667%);stroke-opacity:1;stroke-miterlimit:10;\" d=\"M 94.472656 128.828125 L 85.960938 165.34375 \"/>\n",
       "<path style=\"fill:none;stroke-width:1;stroke-linecap:butt;stroke-linejoin:miter;stroke:rgb(26.666667%,26.666667%,26.666667%);stroke-opacity:1;stroke-miterlimit:10;\" d=\"M 94.472656 128.828125 L 96.328125 94.035156 \"/>\n",
       "<path style=\"fill:none;stroke-width:1;stroke-linecap:butt;stroke-linejoin:miter;stroke:rgb(26.666667%,26.666667%,26.666667%);stroke-opacity:1;stroke-miterlimit:10;\" d=\"M 64.996094 158.625 L 40.125 144.925781 \"/>\n",
       "<path style=\"fill:none;stroke-width:1;stroke-linecap:butt;stroke-linejoin:miter;stroke:rgb(26.666667%,26.666667%,26.666667%);stroke-opacity:1;stroke-miterlimit:10;\" d=\"M 64.996094 158.625 L 41.859375 131.09375 \"/>\n",
       "<path style=\"fill:none;stroke-width:1;stroke-linecap:butt;stroke-linejoin:miter;stroke:rgb(26.666667%,26.666667%,26.666667%);stroke-opacity:1;stroke-miterlimit:10;\" d=\"M 52.832031 160.820312 L 40.125 144.925781 \"/>\n",
       "<path style=\"fill:none;stroke-width:1;stroke-linecap:butt;stroke-linejoin:miter;stroke:rgb(26.666667%,26.666667%,26.666667%);stroke-opacity:1;stroke-miterlimit:10;\" d=\"M 52.832031 160.820312 L 41.859375 131.09375 \"/>\n",
       "<path style=\"fill:none;stroke-width:1;stroke-linecap:butt;stroke-linejoin:miter;stroke:rgb(26.666667%,26.666667%,26.666667%);stroke-opacity:1;stroke-miterlimit:10;\" d=\"M 52.832031 160.820312 L 20 180 \"/>\n",
       "<path style=\"fill:none;stroke-width:1;stroke-linecap:butt;stroke-linejoin:miter;stroke:rgb(26.666667%,26.666667%,26.666667%);stroke-opacity:1;stroke-miterlimit:10;\" d=\"M 40.125 144.925781 L 20 180 \"/>\n",
       "<path style=\"fill:none;stroke-width:1;stroke-linecap:butt;stroke-linejoin:miter;stroke:rgb(26.666667%,26.666667%,26.666667%);stroke-opacity:1;stroke-miterlimit:10;\" d=\"M 100.636719 79.269531 L 91.96875 48.359375 \"/>\n",
       "<path style=\"fill:none;stroke-width:1;stroke-linecap:butt;stroke-linejoin:miter;stroke:rgb(26.666667%,26.666667%,26.666667%);stroke-opacity:1;stroke-miterlimit:10;\" d=\"M 100.636719 79.269531 L 130.425781 60.171875 \"/>\n",
       "<path style=\"fill:none;stroke-width:1;stroke-linecap:butt;stroke-linejoin:miter;stroke:rgb(26.666667%,26.666667%,26.666667%);stroke-opacity:1;stroke-miterlimit:10;\" d=\"M 100.636719 79.269531 L 134.046875 68.371094 \"/>\n",
       "<path style=\"fill:none;stroke-width:1;stroke-linecap:butt;stroke-linejoin:miter;stroke:rgb(26.666667%,26.666667%,26.666667%);stroke-opacity:1;stroke-miterlimit:10;\" d=\"M 105.535156 48.75 L 134.046875 68.371094 \"/>\n",
       "<path style=\"fill:none;stroke-width:1;stroke-linecap:butt;stroke-linejoin:miter;stroke:rgb(26.666667%,26.666667%,26.666667%);stroke-opacity:1;stroke-miterlimit:10;\" d=\"M 96.328125 94.035156 L 134.046875 68.371094 \"/>\n",
       "<path style=\"fill:none;stroke-width:1;stroke-linecap:butt;stroke-linejoin:miter;stroke:rgb(26.666667%,26.666667%,26.666667%);stroke-opacity:1;stroke-miterlimit:10;\" d=\"M 142.929688 23.65625 L 130.425781 60.171875 \"/>\n",
       "<path style=\"fill:none;stroke-width:1;stroke-linecap:butt;stroke-linejoin:miter;stroke:rgb(26.666667%,26.666667%,26.666667%);stroke-opacity:1;stroke-miterlimit:10;\" d=\"M 142.929688 23.65625 L 134.046875 68.371094 \"/>\n",
       "<path style=\"fill:none;stroke-width:1;stroke-linecap:butt;stroke-linejoin:miter;stroke:rgb(26.666667%,26.666667%,26.666667%);stroke-opacity:1;stroke-miterlimit:10;\" d=\"M 155.34375 31.988281 L 130.425781 60.171875 \"/>\n",
       "<path style=\"fill:none;stroke-width:1;stroke-linecap:butt;stroke-linejoin:miter;stroke:rgb(26.666667%,26.666667%,26.666667%);stroke-opacity:1;stroke-miterlimit:10;\" d=\"M 155.34375 31.988281 L 134.046875 68.371094 \"/>\n",
       "<path style=\"fill:none;stroke-width:1;stroke-linecap:butt;stroke-linejoin:miter;stroke:rgb(26.666667%,26.666667%,26.666667%);stroke-opacity:1;stroke-miterlimit:10;\" d=\"M 115.144531 20.5625 L 130.425781 60.171875 \"/>\n",
       "<path style=\"fill:none;stroke-width:1;stroke-linecap:butt;stroke-linejoin:miter;stroke:rgb(26.666667%,26.666667%,26.666667%);stroke-opacity:1;stroke-miterlimit:10;\" d=\"M 115.144531 20.5625 L 134.046875 68.371094 \"/>\n",
       "<path style=\"fill:none;stroke-width:1;stroke-linecap:butt;stroke-linejoin:miter;stroke:rgb(26.666667%,26.666667%,26.666667%);stroke-opacity:1;stroke-miterlimit:10;\" d=\"M 87.316406 73.953125 L 134.046875 68.371094 \"/>\n",
       "<path style=\"fill:none;stroke-width:1;stroke-linecap:butt;stroke-linejoin:miter;stroke:rgb(26.666667%,26.666667%,26.666667%);stroke-opacity:1;stroke-miterlimit:10;\" d=\"M 129.171875 20 L 130.425781 60.171875 \"/>\n",
       "<path style=\"fill:none;stroke-width:1;stroke-linecap:butt;stroke-linejoin:miter;stroke:rgb(26.666667%,26.666667%,26.666667%);stroke-opacity:1;stroke-miterlimit:10;\" d=\"M 129.171875 20 L 134.046875 68.371094 \"/>\n",
       "<path style=\"fill:none;stroke-width:1;stroke-linecap:butt;stroke-linejoin:miter;stroke:rgb(26.666667%,26.666667%,26.666667%);stroke-opacity:1;stroke-miterlimit:10;\" d=\"M 163.230469 46.527344 L 130.425781 60.171875 \"/>\n",
       "<path style=\"fill:none;stroke-width:1;stroke-linecap:butt;stroke-linejoin:miter;stroke:rgb(26.666667%,26.666667%,26.666667%);stroke-opacity:1;stroke-miterlimit:10;\" d=\"M 163.230469 46.527344 L 134.046875 68.371094 \"/>\n",
       "<path style=\"fill:none;stroke-width:1;stroke-linecap:butt;stroke-linejoin:miter;stroke:rgb(26.666667%,26.666667%,26.666667%);stroke-opacity:1;stroke-miterlimit:10;\" d=\"M 168.082031 93.535156 L 166.339844 136.851562 \"/>\n",
       "<path style=\"fill:none;stroke-width:1;stroke-linecap:butt;stroke-linejoin:miter;stroke:rgb(26.666667%,26.666667%,26.666667%);stroke-opacity:1;stroke-miterlimit:10;\" d=\"M 168.082031 93.535156 L 145.179688 111.527344 \"/>\n",
       "<path style=\"fill:none;stroke-width:1;stroke-linecap:butt;stroke-linejoin:miter;stroke:rgb(26.666667%,26.666667%,26.666667%);stroke-opacity:1;stroke-miterlimit:10;\" d=\"M 168.082031 93.535156 L 169.363281 71.398438 \"/>\n",
       "<path style=\"fill:none;stroke-width:1;stroke-linecap:butt;stroke-linejoin:miter;stroke:rgb(26.666667%,26.666667%,26.666667%);stroke-opacity:1;stroke-miterlimit:10;\" d=\"M 168.082031 93.535156 L 130.425781 60.171875 \"/>\n",
       "<path style=\"fill:none;stroke-width:1;stroke-linecap:butt;stroke-linejoin:miter;stroke:rgb(26.666667%,26.666667%,26.666667%);stroke-opacity:1;stroke-miterlimit:10;\" d=\"M 168.082031 93.535156 L 134.046875 68.371094 \"/>\n",
       "<path style=\"fill:none;stroke-width:1;stroke-linecap:butt;stroke-linejoin:miter;stroke:rgb(26.666667%,26.666667%,26.666667%);stroke-opacity:1;stroke-miterlimit:10;\" d=\"M 148.066406 152.839844 L 166.339844 136.851562 \"/>\n",
       "<path style=\"fill:none;stroke-width:1;stroke-linecap:butt;stroke-linejoin:miter;stroke:rgb(26.666667%,26.666667%,26.666667%);stroke-opacity:1;stroke-miterlimit:10;\" d=\"M 148.066406 152.839844 L 145.179688 111.527344 \"/>\n",
       "<path style=\"fill:none;stroke-width:1;stroke-linecap:butt;stroke-linejoin:miter;stroke:rgb(26.666667%,26.666667%,26.666667%);stroke-opacity:1;stroke-miterlimit:10;\" d=\"M 148.066406 152.839844 L 124.402344 115.550781 \"/>\n",
       "<path style=\"fill:none;stroke-width:1;stroke-linecap:butt;stroke-linejoin:miter;stroke:rgb(26.666667%,26.666667%,26.666667%);stroke-opacity:1;stroke-miterlimit:10;\" d=\"M 166.339844 136.851562 L 124.402344 115.550781 \"/>\n",
       "<path style=\"fill:none;stroke-width:1;stroke-linecap:butt;stroke-linejoin:miter;stroke:rgb(26.666667%,26.666667%,26.666667%);stroke-opacity:1;stroke-miterlimit:10;\" d=\"M 180 53.832031 L 169.363281 71.398438 \"/>\n",
       "<path style=\"fill:none;stroke-width:1;stroke-linecap:butt;stroke-linejoin:miter;stroke:rgb(26.666667%,26.666667%,26.666667%);stroke-opacity:1;stroke-miterlimit:10;\" d=\"M 180 53.832031 L 134.046875 68.371094 \"/>\n",
       "<path style=\"fill:none;stroke-width:1;stroke-linecap:butt;stroke-linejoin:miter;stroke:rgb(26.666667%,26.666667%,26.666667%);stroke-opacity:1;stroke-miterlimit:10;\" d=\"M 145.179688 111.527344 L 134.046875 68.371094 \"/>\n",
       "<path style=\"fill:none;stroke-width:1;stroke-linecap:butt;stroke-linejoin:miter;stroke:rgb(26.666667%,26.666667%,26.666667%);stroke-opacity:1;stroke-miterlimit:10;\" d=\"M 141.867188 96.996094 L 124.402344 115.550781 \"/>\n",
       "<path style=\"fill:none;stroke-width:1;stroke-linecap:butt;stroke-linejoin:miter;stroke:rgb(26.666667%,26.666667%,26.666667%);stroke-opacity:1;stroke-miterlimit:10;\" d=\"M 141.867188 96.996094 L 134.046875 68.371094 \"/>\n",
       "<path style=\"fill:none;stroke-width:1;stroke-linecap:butt;stroke-linejoin:miter;stroke:rgb(26.666667%,26.666667%,26.666667%);stroke-opacity:1;stroke-miterlimit:10;\" d=\"M 169.363281 71.398438 L 130.425781 60.171875 \"/>\n",
       "<path style=\"fill:none;stroke-width:1;stroke-linecap:butt;stroke-linejoin:miter;stroke:rgb(26.666667%,26.666667%,26.666667%);stroke-opacity:1;stroke-miterlimit:10;\" d=\"M 169.363281 71.398438 L 134.046875 68.371094 \"/>\n",
       "<path style=\"fill:none;stroke-width:1;stroke-linecap:butt;stroke-linejoin:miter;stroke:rgb(26.666667%,26.666667%,26.666667%);stroke-opacity:1;stroke-miterlimit:10;\" d=\"M 91.96875 48.359375 L 130.425781 60.171875 \"/>\n",
       "<path style=\"fill:none;stroke-width:1;stroke-linecap:butt;stroke-linejoin:miter;stroke:rgb(26.666667%,26.666667%,26.666667%);stroke-opacity:1;stroke-miterlimit:10;\" d=\"M 91.96875 48.359375 L 134.046875 68.371094 \"/>\n",
       "<path style=\"fill:none;stroke-width:1;stroke-linecap:butt;stroke-linejoin:miter;stroke:rgb(26.666667%,26.666667%,26.666667%);stroke-opacity:1;stroke-miterlimit:10;\" d=\"M 124.402344 115.550781 L 130.425781 60.171875 \"/>\n",
       "<path style=\"fill:none;stroke-width:1;stroke-linecap:butt;stroke-linejoin:miter;stroke:rgb(26.666667%,26.666667%,26.666667%);stroke-opacity:1;stroke-miterlimit:10;\" d=\"M 124.402344 115.550781 L 134.046875 68.371094 \"/>\n",
       "<path style=\"fill:none;stroke-width:1;stroke-linecap:butt;stroke-linejoin:miter;stroke:rgb(26.666667%,26.666667%,26.666667%);stroke-opacity:1;stroke-miterlimit:10;\" d=\"M 130.425781 60.171875 L 134.046875 68.371094 \"/>\n",
       "<path style=\"fill-rule:nonzero;fill:rgb(100%,0%,0%);fill-opacity:1;stroke-width:1;stroke-linecap:butt;stroke-linejoin:miter;stroke:rgb(0%,0%,0%);stroke-opacity:1;stroke-miterlimit:10;\" d=\"M 79.753906 122.535156 C 79.753906 125.867188 74.753906 125.867188 74.753906 122.535156 C 74.753906 119.199219 79.753906 119.199219 79.753906 122.535156 \"/>\n",
       "<path style=\"fill-rule:nonzero;fill:rgb(100%,0%,0%);fill-opacity:1;stroke-width:1;stroke-linecap:butt;stroke-linejoin:miter;stroke:rgb(0%,0%,0%);stroke-opacity:1;stroke-miterlimit:10;\" d=\"M 70.945312 86.410156 C 70.945312 89.746094 65.945312 89.746094 65.945312 86.410156 C 65.945312 83.078125 70.945312 83.078125 70.945312 86.410156 \"/>\n",
       "<path style=\"fill-rule:nonzero;fill:rgb(100%,0%,0%);fill-opacity:1;stroke-width:1;stroke-linecap:butt;stroke-linejoin:miter;stroke:rgb(0%,0%,0%);stroke-opacity:1;stroke-miterlimit:10;\" d=\"M 110.925781 100.546875 C 110.925781 103.878906 105.925781 103.878906 105.925781 100.546875 C 105.925781 97.210938 110.925781 97.210938 110.925781 100.546875 \"/>\n",
       "<path style=\"fill-rule:nonzero;fill:rgb(100%,0%,0%);fill-opacity:1;stroke-width:1;stroke-linecap:butt;stroke-linejoin:miter;stroke:rgb(0%,0%,0%);stroke-opacity:1;stroke-miterlimit:10;\" d=\"M 96.972656 128.828125 C 96.972656 132.164062 91.972656 132.164062 91.972656 128.828125 C 91.972656 125.496094 96.972656 125.496094 96.972656 128.828125 \"/>\n",
       "<path style=\"fill-rule:nonzero;fill:rgb(100%,0%,0%);fill-opacity:1;stroke-width:1;stroke-linecap:butt;stroke-linejoin:miter;stroke:rgb(0%,0%,0%);stroke-opacity:1;stroke-miterlimit:10;\" d=\"M 67.496094 158.625 C 67.496094 161.960938 62.496094 161.960938 62.496094 158.625 C 62.496094 155.292969 67.496094 155.292969 67.496094 158.625 \"/>\n",
       "<path style=\"fill-rule:nonzero;fill:rgb(100%,0%,0%);fill-opacity:1;stroke-width:1;stroke-linecap:butt;stroke-linejoin:miter;stroke:rgb(0%,0%,0%);stroke-opacity:1;stroke-miterlimit:10;\" d=\"M 55.332031 160.820312 C 55.332031 164.15625 50.332031 164.15625 50.332031 160.820312 C 50.332031 157.488281 55.332031 157.488281 55.332031 160.820312 \"/>\n",
       "<path style=\"fill-rule:nonzero;fill:rgb(100%,0%,0%);fill-opacity:1;stroke-width:1;stroke-linecap:butt;stroke-linejoin:miter;stroke:rgb(0%,0%,0%);stroke-opacity:1;stroke-miterlimit:10;\" d=\"M 42.625 144.925781 C 42.625 148.257812 37.625 148.257812 37.625 144.925781 C 37.625 141.589844 42.625 141.589844 42.625 144.925781 \"/>\n",
       "<path style=\"fill-rule:nonzero;fill:rgb(100%,0%,0%);fill-opacity:1;stroke-width:1;stroke-linecap:butt;stroke-linejoin:miter;stroke:rgb(0%,0%,0%);stroke-opacity:1;stroke-miterlimit:10;\" d=\"M 71.636719 106.046875 C 71.636719 109.382812 66.636719 109.382812 66.636719 106.046875 C 66.636719 102.714844 71.636719 102.714844 71.636719 106.046875 \"/>\n",
       "<path style=\"fill-rule:nonzero;fill:rgb(100%,0%,0%);fill-opacity:1;stroke-width:1;stroke-linecap:butt;stroke-linejoin:miter;stroke:rgb(0%,0%,0%);stroke-opacity:1;stroke-miterlimit:10;\" d=\"M 103.136719 79.269531 C 103.136719 82.601562 98.136719 82.601562 98.136719 79.269531 C 98.136719 75.933594 103.136719 75.933594 103.136719 79.269531 \"/>\n",
       "<path style=\"fill-rule:nonzero;fill:rgb(100%,0%,0%);fill-opacity:1;stroke-width:1;stroke-linecap:butt;stroke-linejoin:miter;stroke:rgb(0%,0%,0%);stroke-opacity:1;stroke-miterlimit:10;\" d=\"M 108.035156 48.75 C 108.035156 52.082031 103.035156 52.082031 103.035156 48.75 C 103.035156 45.417969 108.035156 45.417969 108.035156 48.75 \"/>\n",
       "<path style=\"fill-rule:nonzero;fill:rgb(100%,0%,0%);fill-opacity:1;stroke-width:1;stroke-linecap:butt;stroke-linejoin:miter;stroke:rgb(0%,0%,0%);stroke-opacity:1;stroke-miterlimit:10;\" d=\"M 44.359375 131.09375 C 44.359375 134.429688 39.359375 134.429688 39.359375 131.09375 C 39.359375 127.761719 44.359375 127.761719 44.359375 131.09375 \"/>\n",
       "<path style=\"fill-rule:nonzero;fill:rgb(100%,0%,0%);fill-opacity:1;stroke-width:1;stroke-linecap:butt;stroke-linejoin:miter;stroke:rgb(0%,0%,0%);stroke-opacity:1;stroke-miterlimit:10;\" d=\"M 100.828125 170.015625 C 100.828125 173.351562 95.828125 173.351562 95.828125 170.015625 C 95.828125 166.683594 100.828125 166.683594 100.828125 170.015625 \"/>\n",
       "<path style=\"fill-rule:nonzero;fill:rgb(100%,0%,0%);fill-opacity:1;stroke-width:1;stroke-linecap:butt;stroke-linejoin:miter;stroke:rgb(0%,0%,0%);stroke-opacity:1;stroke-miterlimit:10;\" d=\"M 88.460938 165.34375 C 88.460938 168.675781 83.460938 168.675781 83.460938 165.34375 C 83.460938 162.007812 88.460938 162.007812 88.460938 165.34375 \"/>\n",
       "<path style=\"fill-rule:nonzero;fill:rgb(100%,0%,0%);fill-opacity:1;stroke-width:1;stroke-linecap:butt;stroke-linejoin:miter;stroke:rgb(0%,0%,0%);stroke-opacity:1;stroke-miterlimit:10;\" d=\"M 98.828125 94.035156 C 98.828125 97.371094 93.828125 97.371094 93.828125 94.035156 C 93.828125 90.703125 98.828125 90.703125 98.828125 94.035156 \"/>\n",
       "<path style=\"fill-rule:nonzero;fill:rgb(100%,0%,0%);fill-opacity:1;stroke-width:1;stroke-linecap:butt;stroke-linejoin:miter;stroke:rgb(0%,0%,0%);stroke-opacity:1;stroke-miterlimit:10;\" d=\"M 145.429688 23.65625 C 145.429688 26.988281 140.429688 26.988281 140.429688 23.65625 C 140.429688 20.324219 145.429688 20.324219 145.429688 23.65625 \"/>\n",
       "<path style=\"fill-rule:nonzero;fill:rgb(100%,0%,0%);fill-opacity:1;stroke-width:1;stroke-linecap:butt;stroke-linejoin:miter;stroke:rgb(0%,0%,0%);stroke-opacity:1;stroke-miterlimit:10;\" d=\"M 157.84375 31.988281 C 157.84375 35.324219 152.84375 35.324219 152.84375 31.988281 C 152.84375 28.65625 157.84375 28.65625 157.84375 31.988281 \"/>\n",
       "<path style=\"fill-rule:nonzero;fill:rgb(100%,0%,0%);fill-opacity:1;stroke-width:1;stroke-linecap:butt;stroke-linejoin:miter;stroke:rgb(0%,0%,0%);stroke-opacity:1;stroke-miterlimit:10;\" d=\"M 22.5 180 C 22.5 183.332031 17.5 183.332031 17.5 180 C 17.5 176.667969 22.5 176.667969 22.5 180 \"/>\n",
       "<path style=\"fill-rule:nonzero;fill:rgb(100%,0%,0%);fill-opacity:1;stroke-width:1;stroke-linecap:butt;stroke-linejoin:miter;stroke:rgb(0%,0%,0%);stroke-opacity:1;stroke-miterlimit:10;\" d=\"M 41.820312 86.183594 C 41.820312 89.519531 36.820312 89.519531 36.820312 86.183594 C 36.820312 82.851562 41.820312 82.851562 41.820312 86.183594 \"/>\n",
       "<path style=\"fill-rule:nonzero;fill:rgb(100%,0%,0%);fill-opacity:1;stroke-width:1;stroke-linecap:butt;stroke-linejoin:miter;stroke:rgb(0%,0%,0%);stroke-opacity:1;stroke-miterlimit:10;\" d=\"M 117.644531 20.5625 C 117.644531 23.894531 112.644531 23.894531 112.644531 20.5625 C 112.644531 17.226562 117.644531 17.226562 117.644531 20.5625 \"/>\n",
       "<path style=\"fill-rule:nonzero;fill:rgb(100%,0%,0%);fill-opacity:1;stroke-width:1;stroke-linecap:butt;stroke-linejoin:miter;stroke:rgb(0%,0%,0%);stroke-opacity:1;stroke-miterlimit:10;\" d=\"M 89.816406 73.953125 C 89.816406 77.285156 84.816406 77.285156 84.816406 73.953125 C 84.816406 70.617188 89.816406 70.617188 89.816406 73.953125 \"/>\n",
       "<path style=\"fill-rule:nonzero;fill:rgb(100%,0%,0%);fill-opacity:1;stroke-width:1;stroke-linecap:butt;stroke-linejoin:miter;stroke:rgb(0%,0%,0%);stroke-opacity:1;stroke-miterlimit:10;\" d=\"M 131.671875 20 C 131.671875 23.332031 126.671875 23.332031 126.671875 20 C 126.671875 16.667969 131.671875 16.667969 131.671875 20 \"/>\n",
       "<path style=\"fill-rule:nonzero;fill:rgb(100%,0%,0%);fill-opacity:1;stroke-width:1;stroke-linecap:butt;stroke-linejoin:miter;stroke:rgb(0%,0%,0%);stroke-opacity:1;stroke-miterlimit:10;\" d=\"M 39.953125 102.277344 C 39.953125 105.609375 34.953125 105.609375 34.953125 102.277344 C 34.953125 98.945312 39.953125 98.945312 39.953125 102.277344 \"/>\n",
       "<path style=\"fill-rule:nonzero;fill:rgb(100%,0%,0%);fill-opacity:1;stroke-width:1;stroke-linecap:butt;stroke-linejoin:miter;stroke:rgb(0%,0%,0%);stroke-opacity:1;stroke-miterlimit:10;\" d=\"M 165.730469 46.527344 C 165.730469 49.859375 160.730469 49.859375 160.730469 46.527344 C 160.730469 43.191406 165.730469 43.191406 165.730469 46.527344 \"/>\n",
       "<path style=\"fill-rule:nonzero;fill:rgb(100%,0%,0%);fill-opacity:1;stroke-width:1;stroke-linecap:butt;stroke-linejoin:miter;stroke:rgb(0%,0%,0%);stroke-opacity:1;stroke-miterlimit:10;\" d=\"M 170.582031 93.535156 C 170.582031 96.867188 165.582031 96.867188 165.582031 93.535156 C 165.582031 90.199219 170.582031 90.199219 170.582031 93.535156 \"/>\n",
       "<path style=\"fill-rule:nonzero;fill:rgb(100%,0%,0%);fill-opacity:1;stroke-width:1;stroke-linecap:butt;stroke-linejoin:miter;stroke:rgb(0%,0%,0%);stroke-opacity:1;stroke-miterlimit:10;\" d=\"M 150.566406 152.839844 C 150.566406 156.171875 145.566406 156.171875 145.566406 152.839844 C 145.566406 149.503906 150.566406 149.503906 150.566406 152.839844 \"/>\n",
       "<path style=\"fill-rule:nonzero;fill:rgb(100%,0%,0%);fill-opacity:1;stroke-width:1;stroke-linecap:butt;stroke-linejoin:miter;stroke:rgb(0%,0%,0%);stroke-opacity:1;stroke-miterlimit:10;\" d=\"M 168.839844 136.851562 C 168.839844 140.1875 163.839844 140.1875 163.839844 136.851562 C 163.839844 133.519531 168.839844 133.519531 168.839844 136.851562 \"/>\n",
       "<path style=\"fill-rule:nonzero;fill:rgb(100%,0%,0%);fill-opacity:1;stroke-width:1;stroke-linecap:butt;stroke-linejoin:miter;stroke:rgb(0%,0%,0%);stroke-opacity:1;stroke-miterlimit:10;\" d=\"M 182.5 53.832031 C 182.5 57.164062 177.5 57.164062 177.5 53.832031 C 177.5 50.5 182.5 50.5 182.5 53.832031 \"/>\n",
       "<path style=\"fill-rule:nonzero;fill:rgb(100%,0%,0%);fill-opacity:1;stroke-width:1;stroke-linecap:butt;stroke-linejoin:miter;stroke:rgb(0%,0%,0%);stroke-opacity:1;stroke-miterlimit:10;\" d=\"M 147.679688 111.527344 C 147.679688 114.859375 142.679688 114.859375 142.679688 111.527344 C 142.679688 108.195312 147.679688 108.195312 147.679688 111.527344 \"/>\n",
       "<path style=\"fill-rule:nonzero;fill:rgb(100%,0%,0%);fill-opacity:1;stroke-width:1;stroke-linecap:butt;stroke-linejoin:miter;stroke:rgb(0%,0%,0%);stroke-opacity:1;stroke-miterlimit:10;\" d=\"M 144.367188 96.996094 C 144.367188 100.332031 139.367188 100.332031 139.367188 96.996094 C 139.367188 93.664062 144.367188 93.664062 144.367188 96.996094 \"/>\n",
       "<path style=\"fill-rule:nonzero;fill:rgb(100%,0%,0%);fill-opacity:1;stroke-width:1;stroke-linecap:butt;stroke-linejoin:miter;stroke:rgb(0%,0%,0%);stroke-opacity:1;stroke-miterlimit:10;\" d=\"M 171.863281 71.398438 C 171.863281 74.730469 166.863281 74.730469 166.863281 71.398438 C 166.863281 68.066406 171.863281 68.066406 171.863281 71.398438 \"/>\n",
       "<path style=\"fill-rule:nonzero;fill:rgb(100%,0%,0%);fill-opacity:1;stroke-width:1;stroke-linecap:butt;stroke-linejoin:miter;stroke:rgb(0%,0%,0%);stroke-opacity:1;stroke-miterlimit:10;\" d=\"M 94.46875 48.359375 C 94.46875 51.691406 89.46875 51.691406 89.46875 48.359375 C 89.46875 45.027344 94.46875 45.027344 94.46875 48.359375 \"/>\n",
       "<path style=\"fill-rule:nonzero;fill:rgb(100%,0%,0%);fill-opacity:1;stroke-width:1;stroke-linecap:butt;stroke-linejoin:miter;stroke:rgb(0%,0%,0%);stroke-opacity:1;stroke-miterlimit:10;\" d=\"M 126.902344 115.550781 C 126.902344 118.882812 121.902344 118.882812 121.902344 115.550781 C 121.902344 112.21875 126.902344 112.21875 126.902344 115.550781 \"/>\n",
       "<path style=\"fill-rule:nonzero;fill:rgb(100%,0%,0%);fill-opacity:1;stroke-width:1;stroke-linecap:butt;stroke-linejoin:miter;stroke:rgb(0%,0%,0%);stroke-opacity:1;stroke-miterlimit:10;\" d=\"M 132.925781 60.171875 C 132.925781 63.507812 127.925781 63.507812 127.925781 60.171875 C 127.925781 56.839844 132.925781 56.839844 132.925781 60.171875 \"/>\n",
       "<path style=\"fill-rule:nonzero;fill:rgb(100%,0%,0%);fill-opacity:1;stroke-width:1;stroke-linecap:butt;stroke-linejoin:miter;stroke:rgb(0%,0%,0%);stroke-opacity:1;stroke-miterlimit:10;\" d=\"M 136.546875 68.371094 C 136.546875 71.703125 131.546875 71.703125 131.546875 68.371094 C 131.546875 65.039062 136.546875 65.039062 136.546875 68.371094 \"/>\n",
       "<g style=\"fill:rgb(0%,0%,0%);fill-opacity:1;\">\n",
       "  <use xlink:href=\"#glyph0-1\" x=\"72.648438\" y=\"128.832031\"/>\n",
       "</g>\n",
       "<g style=\"fill:rgb(0%,0%,0%);fill-opacity:1;\">\n",
       "  <use xlink:href=\"#glyph0-2\" x=\"64.578125\" y=\"92.648438\"/>\n",
       "</g>\n",
       "<g style=\"fill:rgb(0%,0%,0%);fill-opacity:1;\">\n",
       "  <use xlink:href=\"#glyph0-3\" x=\"103.832031\" y=\"106.851562\"/>\n",
       "</g>\n",
       "<g style=\"fill:rgb(0%,0%,0%);fill-opacity:1;\">\n",
       "  <use xlink:href=\"#glyph0-4\" x=\"90.015625\" y=\"135.144531\"/>\n",
       "</g>\n",
       "<g style=\"fill:rgb(0%,0%,0%);fill-opacity:1;\">\n",
       "  <use xlink:href=\"#glyph0-5\" x=\"60.328125\" y=\"164.828125\"/>\n",
       "</g>\n",
       "<g style=\"fill:rgb(0%,0%,0%);fill-opacity:1;\">\n",
       "  <use xlink:href=\"#glyph0-6\" x=\"48.234375\" y=\"167.078125\"/>\n",
       "</g>\n",
       "<g style=\"fill:rgb(0%,0%,0%);fill-opacity:1;\">\n",
       "  <use xlink:href=\"#glyph0-7\" x=\"35.484375\" y=\"151.226562\"/>\n",
       "</g>\n",
       "<g style=\"fill:rgb(0%,0%,0%);fill-opacity:1;\">\n",
       "  <use xlink:href=\"#glyph0-8\" x=\"64.550781\" y=\"112.300781\"/>\n",
       "</g>\n",
       "<g style=\"fill:rgb(0%,0%,0%);fill-opacity:1;\">\n",
       "  <use xlink:href=\"#glyph0-9\" x=\"96.039062\" y=\"85.582031\"/>\n",
       "</g>\n",
       "<g style=\"fill:rgb(0%,0%,0%);fill-opacity:1;\">\n",
       "  <use xlink:href=\"#glyph0-10\" x=\"101.007812\" y=\"55.058594\"/>\n",
       "</g>\n",
       "<g style=\"fill:rgb(0%,0%,0%);fill-opacity:1;\">\n",
       "  <use xlink:href=\"#glyph0-2\" x=\"31.855469\" y=\"137.394531\"/>\n",
       "  <use xlink:href=\"#glyph0-1\" x=\"41.053469\" y=\"137.394531\"/>\n",
       "</g>\n",
       "<g style=\"fill:rgb(0%,0%,0%);fill-opacity:1;\">\n",
       "  <use xlink:href=\"#glyph0-2\" x=\"89.867188\" y=\"176.253906\"/>\n",
       "  <use xlink:href=\"#glyph0-2\" x=\"99.065188\" y=\"176.253906\"/>\n",
       "</g>\n",
       "<g style=\"fill:rgb(0%,0%,0%);fill-opacity:1;\">\n",
       "  <use xlink:href=\"#glyph0-2\" x=\"76.054688\" y=\"171.648438\"/>\n",
       "  <use xlink:href=\"#glyph0-3\" x=\"85.252688\" y=\"171.648438\"/>\n",
       "</g>\n",
       "<g style=\"fill:rgb(0%,0%,0%);fill-opacity:1;\">\n",
       "  <use xlink:href=\"#glyph0-2\" x=\"86.457031\" y=\"100.351562\"/>\n",
       "  <use xlink:href=\"#glyph0-4\" x=\"95.655031\" y=\"100.351562\"/>\n",
       "</g>\n",
       "<g style=\"fill:rgb(0%,0%,0%);fill-opacity:1;\">\n",
       "  <use xlink:href=\"#glyph0-2\" x=\"132.753906\" y=\"29.894531\"/>\n",
       "  <use xlink:href=\"#glyph0-5\" x=\"141.951906\" y=\"29.894531\"/>\n",
       "</g>\n",
       "<g style=\"fill:rgb(0%,0%,0%);fill-opacity:1;\">\n",
       "  <use xlink:href=\"#glyph0-2\" x=\"145.480469\" y=\"38.25\"/>\n",
       "  <use xlink:href=\"#glyph0-6\" x=\"154.678469\" y=\"38.25\"/>\n",
       "</g>\n",
       "<g style=\"fill:rgb(0%,0%,0%);fill-opacity:1;\">\n",
       "  <use xlink:href=\"#glyph0-2\" x=\"10.046875\" y=\"186.300781\"/>\n",
       "  <use xlink:href=\"#glyph0-7\" x=\"19.244875\" y=\"186.300781\"/>\n",
       "</g>\n",
       "<g style=\"fill:rgb(0%,0%,0%);fill-opacity:1;\">\n",
       "  <use xlink:href=\"#glyph0-2\" x=\"29.445312\" y=\"92.4375\"/>\n",
       "  <use xlink:href=\"#glyph0-8\" x=\"38.643313\" y=\"92.4375\"/>\n",
       "</g>\n",
       "<g style=\"fill:rgb(0%,0%,0%);fill-opacity:1;\">\n",
       "  <use xlink:href=\"#glyph0-2\" x=\"105.15625\" y=\"26.875\"/>\n",
       "  <use xlink:href=\"#glyph0-9\" x=\"114.35425\" y=\"26.875\"/>\n",
       "</g>\n",
       "<g style=\"fill:rgb(0%,0%,0%);fill-opacity:1;\">\n",
       "  <use xlink:href=\"#glyph0-2\" x=\"77.425781\" y=\"80.257812\"/>\n",
       "  <use xlink:href=\"#glyph0-10\" x=\"86.623781\" y=\"80.257812\"/>\n",
       "</g>\n",
       "<g style=\"fill:rgb(0%,0%,0%);fill-opacity:1;\">\n",
       "  <use xlink:href=\"#glyph0-3\" x=\"119.882812\" y=\"26.308594\"/>\n",
       "  <use xlink:href=\"#glyph0-1\" x=\"129.080813\" y=\"26.308594\"/>\n",
       "</g>\n",
       "<g style=\"fill:rgb(0%,0%,0%);fill-opacity:1;\">\n",
       "  <use xlink:href=\"#glyph0-3\" x=\"29.707031\" y=\"108.582031\"/>\n",
       "  <use xlink:href=\"#glyph0-2\" x=\"38.905031\" y=\"108.582031\"/>\n",
       "</g>\n",
       "<g style=\"fill:rgb(0%,0%,0%);fill-opacity:1;\">\n",
       "  <use xlink:href=\"#glyph0-3\" x=\"154.039062\" y=\"52.832031\"/>\n",
       "  <use xlink:href=\"#glyph0-3\" x=\"163.237063\" y=\"52.832031\"/>\n",
       "</g>\n",
       "<g style=\"fill:rgb(0%,0%,0%);fill-opacity:1;\">\n",
       "  <use xlink:href=\"#glyph0-3\" x=\"158.925781\" y=\"99.847656\"/>\n",
       "  <use xlink:href=\"#glyph0-4\" x=\"168.123781\" y=\"99.847656\"/>\n",
       "</g>\n",
       "<g style=\"fill:rgb(0%,0%,0%);fill-opacity:1;\">\n",
       "  <use xlink:href=\"#glyph0-3\" x=\"138.601562\" y=\"159.144531\"/>\n",
       "  <use xlink:href=\"#glyph0-5\" x=\"147.799563\" y=\"159.144531\"/>\n",
       "</g>\n",
       "<g style=\"fill:rgb(0%,0%,0%);fill-opacity:1;\">\n",
       "  <use xlink:href=\"#glyph0-3\" x=\"157.191406\" y=\"143.160156\"/>\n",
       "  <use xlink:href=\"#glyph0-6\" x=\"166.389406\" y=\"143.160156\"/>\n",
       "</g>\n",
       "<g style=\"fill:rgb(0%,0%,0%);fill-opacity:1;\">\n",
       "  <use xlink:href=\"#glyph0-3\" x=\"170.761719\" y=\"60.140625\"/>\n",
       "  <use xlink:href=\"#glyph0-7\" x=\"179.959719\" y=\"60.140625\"/>\n",
       "</g>\n",
       "<g style=\"fill:rgb(0%,0%,0%);fill-opacity:1;\">\n",
       "  <use xlink:href=\"#glyph0-3\" x=\"136.019531\" y=\"117.835938\"/>\n",
       "  <use xlink:href=\"#glyph0-8\" x=\"145.217531\" y=\"117.835938\"/>\n",
       "</g>\n",
       "<g style=\"fill:rgb(0%,0%,0%);fill-opacity:1;\">\n",
       "  <use xlink:href=\"#glyph0-3\" x=\"132.59375\" y=\"103.3125\"/>\n",
       "  <use xlink:href=\"#glyph0-9\" x=\"141.79175\" y=\"103.3125\"/>\n",
       "</g>\n",
       "<g style=\"fill:rgb(0%,0%,0%);fill-opacity:1;\">\n",
       "  <use xlink:href=\"#glyph0-3\" x=\"160.183594\" y=\"77.703125\"/>\n",
       "  <use xlink:href=\"#glyph0-10\" x=\"169.381594\" y=\"77.703125\"/>\n",
       "</g>\n",
       "<g style=\"fill:rgb(0%,0%,0%);fill-opacity:1;\">\n",
       "  <use xlink:href=\"#glyph0-4\" x=\"82.78125\" y=\"54.671875\"/>\n",
       "  <use xlink:href=\"#glyph0-1\" x=\"91.97925\" y=\"54.671875\"/>\n",
       "</g>\n",
       "<g style=\"fill:rgb(0%,0%,0%);fill-opacity:1;\">\n",
       "  <use xlink:href=\"#glyph0-4\" x=\"116.753906\" y=\"121.863281\"/>\n",
       "  <use xlink:href=\"#glyph0-2\" x=\"125.951906\" y=\"121.863281\"/>\n",
       "</g>\n",
       "<g style=\"fill:rgb(0%,0%,0%);fill-opacity:1;\">\n",
       "  <use xlink:href=\"#glyph0-4\" x=\"121.332031\" y=\"66.488281\"/>\n",
       "  <use xlink:href=\"#glyph0-3\" x=\"130.530031\" y=\"66.488281\"/>\n",
       "</g>\n",
       "<g style=\"fill:rgb(0%,0%,0%);fill-opacity:1;\">\n",
       "  <use xlink:href=\"#glyph0-4\" x=\"124.988281\" y=\"74.683594\"/>\n",
       "  <use xlink:href=\"#glyph0-4\" x=\"134.186281\" y=\"74.683594\"/>\n",
       "</g>\n",
       "</g>\n",
       "</svg>\n"
      ],
      "text/plain": [
       "<igraph.drawing.Plot at 0x12acb4a58>"
      ]
     },
     "execution_count": 42,
     "metadata": {},
     "output_type": "execute_result"
    }
   ],
   "source": [
    "# networkxで空手クラブネットワークを保存\n",
    "import networkx as nx\n",
    "G = nx.karate_club_graph()\n",
    "nx.write_gml(G, '/Users/Narizuka/Desktop/karate.gml')\n",
    "\n",
    "# igraphで読み込み\n",
    "g = ig.Graph.Read_GML('/Users/Narizuka/Desktop/karate.gml')\n",
    "ig.plot(g, vertex_size=5, bbox=(200, 200))"
   ]
  },
  {
   "cell_type": "markdown",
   "metadata": {
    "toc-hr-collapsed": false
   },
   "source": [
    "### コミュニティ検出\n",
    "---"
   ]
  },
  {
   "cell_type": "code",
   "execution_count": 44,
   "metadata": {},
   "outputs": [],
   "source": [
    "g.es['w'] = np.random.randint(0, 10, len(g.vs))"
   ]
  },
  {
   "cell_type": "code",
   "execution_count": 45,
   "metadata": {},
   "outputs": [],
   "source": [
    "dedr = ig.Graph.community_fastgreedy(g, weights='w')\n",
    "C, Q = {}, []\n",
    "for n in np.arange(2, len(g.vs)+1):\n",
    "    c = dedr.as_clustering(n=n).membership\n",
    "    C[n] = c\n",
    "    Q.append([n, g.modularity(c)])\n",
    "Q = ar(Q)"
   ]
  },
  {
   "cell_type": "code",
   "execution_count": 46,
   "metadata": {},
   "outputs": [
    {
     "data": {
      "text/plain": [
       "array([4.        , 0.41740631])"
      ]
     },
     "execution_count": 46,
     "metadata": {},
     "output_type": "execute_result"
    }
   ],
   "source": [
    "# モジュラリティ最大となるコミュニティ数\n",
    "Q[Q[:, 1]==Q[:, 1].max()][0]"
   ]
  }
 ],
 "metadata": {
  "kernelspec": {
   "display_name": "Python 3",
   "language": "python",
   "name": "python3"
  },
  "language_info": {
   "codemirror_mode": {
    "name": "ipython",
    "version": 3
   },
   "file_extension": ".py",
   "mimetype": "text/x-python",
   "name": "python",
   "nbconvert_exporter": "python",
   "pygments_lexer": "ipython3",
   "version": "3.7.4-final"
  },
  "toc": {
   "toc_cell": false,
   "toc_number_sections": true,
   "toc_threshold": 6,
   "toc_window_display": false
  }
 },
 "nbformat": 4,
 "nbformat_minor": 2
}